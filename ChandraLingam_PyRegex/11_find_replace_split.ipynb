{
 "cells": [
  {
   "cell_type": "markdown",
   "metadata": {},
   "source": [
    "# 11. RE Module - Find and Replace, Split"
   ]
  },
  {
   "cell_type": "markdown",
   "metadata": {},
   "source": [
    "### To patterns: One to find the text and another pattern with replacement text"
   ]
  },
  {
   "cell_type": "code",
   "execution_count": 3,
   "metadata": {},
   "outputs": [],
   "source": [
    "import re\n",
    "\n",
    "import datetime"
   ]
  },
  {
   "cell_type": "code",
   "execution_count": 2,
   "metadata": {},
   "outputs": [
    {
     "name": "stdout",
     "output_type": "stream",
     "text": [
      "original text:  Start Date: 20200920, End Date: 20210920\n",
      "new text:  Start Date: 09-202020, End Date: 09-202021\n"
     ]
    }
   ],
   "source": [
    "pattern = r'(?P<year>\\d{4})(?P<month>\\d{2})(?P<day>\\d{2})'\n",
    "text = 'Start Date: 20200920, End Date: 20210920' # 2020-020 => 09-20-2020\n",
    "\n",
    "replacement_pattern = r'\\g<month>-\\g<day>\\g<year>'\n",
    "print('original text: ', text)\n",
    "\n",
    "new_text = re.sub(pattern, replacement_pattern, text)\n",
    "print('new text: ', new_text)"
   ]
  },
  {
   "cell_type": "markdown",
   "metadata": {},
   "source": [
    "### Custom Function to generate replacement text"
   ]
  },
  {
   "cell_type": "code",
   "execution_count": 5,
   "metadata": {},
   "outputs": [],
   "source": [
    "def format_date(match):\n",
    "    in_date = match.groupdict()\n",
    "\n",
    "    year = int(in_date['year'])\n",
    "    month = int(in_date['month'])\n",
    "    day = int(in_date['day'])\n",
    "\n",
    "    return datetime.date(year, month, day).strftime('%b-%d-%Y')"
   ]
  },
  {
   "cell_type": "code",
   "execution_count": 8,
   "metadata": {},
   "outputs": [
    {
     "name": "stdout",
     "output_type": "stream",
     "text": [
      "original text:  Start Date: 20200920, End Date: 20210920\n",
      "new text:  Start Date: Sep-20-2020, End Date: Sep-20-2021\n"
     ]
    }
   ],
   "source": [
    "pattern = r'(?P<year>\\d{4})(?P<month>\\d{2})(?P<day>\\d{2})'\n",
    "text = 'Start Date: 20200920, End Date: 20210920' # 2020-020 => 09-20-2020\n",
    "\n",
    "replacement_pattern = r'\\g<month>-\\g<day>\\g<year>'\n",
    "print('original text: ', text)\n",
    "\n",
    "new_text = re.sub(pattern, format_date, text)\n",
    "print('new text: ', new_text)"
   ]
  },
  {
   "cell_type": "markdown",
   "metadata": {},
   "source": [
    "### re.split - Split text based on specified pattern"
   ]
  },
  {
   "cell_type": "code",
   "execution_count": 10,
   "metadata": {},
   "outputs": [
    {
     "data": {
      "text/plain": [
       "['a-c', ' X', ' y', ' 1', ' 1234', ' 2', ' 3']"
      ]
     },
     "execution_count": 10,
     "metadata": {},
     "output_type": "execute_result"
    }
   ],
   "source": [
    "pattern = r','\n",
    "text = 'a-c, X, y, 1, 1234, 2, 3'\n",
    "\n",
    "re.split(pattern, text)"
   ]
  }
 ],
 "metadata": {
  "kernelspec": {
   "display_name": "Python 3.10.9 64-bit",
   "language": "python",
   "name": "python3"
  },
  "language_info": {
   "codemirror_mode": {
    "name": "ipython",
    "version": 3
   },
   "file_extension": ".py",
   "mimetype": "text/x-python",
   "name": "python",
   "nbconvert_exporter": "python",
   "pygments_lexer": "ipython3",
   "version": "3.10.9"
  },
  "orig_nbformat": 4,
  "vscode": {
   "interpreter": {
    "hash": "b0fa6594d8f4cbf19f97940f81e996739fb7646882a419484c72d19e05852a7e"
   }
  }
 },
 "nbformat": 4,
 "nbformat_minor": 2
}
