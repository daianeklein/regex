{
 "cells": [
  {
   "cell_type": "markdown",
   "metadata": {},
   "source": [
    "# Character Patterns"
   ]
  },
  {
   "cell_type": "code",
   "execution_count": 1,
   "metadata": {},
   "outputs": [],
   "source": [
    "import re"
   ]
  },
  {
   "cell_type": "code",
   "execution_count": 11,
   "metadata": {},
   "outputs": [
    {
     "name": "stdout",
     "output_type": "stream",
     "text": [
      "['0', '1', '2', '3', '4', '5', '6', '7', '8', '9', '1', '0']\n",
      "['0', '1', '2', '3', '4', '5', '6', '7', '8', '9', '1', '0']\n",
      "['0', '1', '2', '3', '4', '5', '6', '7', '8', '9', '1', '0']\n",
      "['A', 'B', 'C', 'd', 'e', 'f', ' ']\n",
      "['A', 'B', 'C', 'd', 'e', 'f', ' ']\n"
     ]
    }
   ],
   "source": [
    "pattern = '[0123456789]' #every single character\n",
    "text = 'ABCdef 012345678910'\n",
    "\n",
    "print(re.findall(pattern, text))\n",
    "\n",
    "pattern = '[0-9]' #set\n",
    "print(re.findall(pattern, text))\n",
    "\n",
    "pattern = '\\d' \n",
    "print(re.findall(pattern, text))\n",
    "\n",
    "pattern = '\\D' # not integers\n",
    "print(re.findall(pattern, text))\n",
    "\n",
    "pattern = '[^\\d]' # not integers\n",
    "print(re.findall(pattern, text))\n",
    "\n",
    "\n"
   ]
  },
  {
   "cell_type": "code",
   "execution_count": 13,
   "metadata": {},
   "outputs": [
    {
     "name": "stdout",
     "output_type": "stream",
     "text": [
      "['A', 'B', 'C', '1', '2', '3', 'D', 'E', '0', 'ʕ', 'ᴥ', 'ʔ', 'っ', 'T', 'e', 'x', 't', 'E', 'm', 'o', 'j', 'i', '_', 'ツ', '_']\n",
      "[' ', ' ', ' ', ' ', ' ', '•', '́', '•', '̀', '♡', ' ', ' ', ' ', '¯', '\\\\', '(', ')', '/']\n"
     ]
    }
   ],
   "source": [
    "pattern = '\\w'\n",
    "text = 'ABC 123 D E 0 ʕ•́ᴥ•̀ʔっ♡ Text Emoji ¯\\_(ツ)_/'\n",
    "\n",
    "print(re.findall(pattern, text))\n",
    "\n",
    "pattern = '\\W' #all non word characters\n",
    "print(re.findall(pattern, text))"
   ]
  },
  {
   "cell_type": "code",
   "execution_count": null,
   "metadata": {},
   "outputs": [],
   "source": []
  }
 ],
 "metadata": {
  "kernelspec": {
   "display_name": "Python 3.10.9 64-bit",
   "language": "python",
   "name": "python3"
  },
  "language_info": {
   "codemirror_mode": {
    "name": "ipython",
    "version": 3
   },
   "file_extension": ".py",
   "mimetype": "text/x-python",
   "name": "python",
   "nbconvert_exporter": "python",
   "pygments_lexer": "ipython3",
   "version": "3.10.9"
  },
  "orig_nbformat": 4,
  "vscode": {
   "interpreter": {
    "hash": "b0fa6594d8f4cbf19f97940f81e996739fb7646882a419484c72d19e05852a7e"
   }
  }
 },
 "nbformat": 4,
 "nbformat_minor": 2
}
