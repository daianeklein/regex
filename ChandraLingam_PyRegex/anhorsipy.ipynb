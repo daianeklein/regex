{
 "cells": [
  {
   "cell_type": "markdown",
   "metadata": {},
   "source": [
    "# Anchors"
   ]
  },
  {
   "cell_type": "code",
   "execution_count": 1,
   "metadata": {},
   "outputs": [],
   "source": [
    "import re"
   ]
  },
  {
   "cell_type": "code",
   "execution_count": 7,
   "metadata": {},
   "outputs": [
    {
     "name": "stdout",
     "output_type": "stream",
     "text": [
      "['log', 'log']\n"
     ]
    }
   ],
   "source": [
    "# word boundaries\n",
    "pattern = r'log'\n",
    "text = 'catalog of log'\n",
    "\n",
    "print(re.findall(pattern, text))"
   ]
  },
  {
   "cell_type": "code",
   "execution_count": 6,
   "metadata": {},
   "outputs": [
    {
     "name": "stdout",
     "output_type": "stream",
     "text": [
      "['log']\n"
     ]
    }
   ],
   "source": [
    "# word boundaries\n",
    "pattern = r'\\blog\\b'\n",
    "text = 'catalog of log'\n",
    "\n",
    "print(re.findall(pattern, text))"
   ]
  },
  {
   "cell_type": "code",
   "execution_count": 9,
   "metadata": {},
   "outputs": [
    {
     "name": "stdout",
     "output_type": "stream",
     "text": [
      "['apple', 'apple']\n",
      "['apple']\n"
     ]
    }
   ],
   "source": [
    "#only in the beginning\n",
    "pattern = 'apple'\n",
    "text = 'apple grows on apple trees'\n",
    "\n",
    "print(re.findall(pattern, text))\n",
    "\n",
    "#only in the beginning\n",
    "pattern = '^apple'\n",
    "text = 'apple grows on apple trees'\n",
    "\n",
    "print(re.findall(pattern, text))"
   ]
  },
  {
   "cell_type": "code",
   "execution_count": 11,
   "metadata": {},
   "outputs": [
    {
     "name": "stdout",
     "output_type": "stream",
     "text": [
      "['apple', 'apple', 'apple']\n",
      "['apple']\n"
     ]
    }
   ],
   "source": [
    "#end\n",
    "pattern = 'apple'\n",
    "text = 'apple grows on apple trees and apple'\n",
    "\n",
    "print(re.findall(pattern, text))\n",
    "\n",
    "#only in the beginning\n",
    "pattern = 'apple$'\n",
    "text = 'apple grows on apple trees and apple'\n",
    "\n",
    "print(re.findall(pattern, text))"
   ]
  },
  {
   "cell_type": "code",
   "execution_count": null,
   "metadata": {},
   "outputs": [],
   "source": []
  }
 ],
 "metadata": {
  "kernelspec": {
   "display_name": "Python 3.10.9 64-bit",
   "language": "python",
   "name": "python3"
  },
  "language_info": {
   "codemirror_mode": {
    "name": "ipython",
    "version": 3
   },
   "file_extension": ".py",
   "mimetype": "text/x-python",
   "name": "python",
   "nbconvert_exporter": "python",
   "pygments_lexer": "ipython3",
   "version": "3.10.9"
  },
  "orig_nbformat": 4,
  "vscode": {
   "interpreter": {
    "hash": "b0fa6594d8f4cbf19f97940f81e996739fb7646882a419484c72d19e05852a7e"
   }
  }
 },
 "nbformat": 4,
 "nbformat_minor": 2
}
