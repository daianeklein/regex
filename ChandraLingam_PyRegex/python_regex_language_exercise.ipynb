{
 "cells": [
  {
   "cell_type": "markdown",
   "metadata": {},
   "source": [
    "How many matches are there for the pattern in the text?\n",
    "\n",
    "Pattern: aa\n",
    "\n",
    "Text: aaa"
   ]
  },
  {
   "cell_type": "code",
   "execution_count": 1,
   "metadata": {},
   "outputs": [
    {
     "name": "stdout",
     "output_type": "stream",
     "text": [
      "Pattern: aa\n",
      "Text: aaa\n",
      "\n",
      "Match:\n",
      "  aa at index: 0\n"
     ]
    }
   ],
   "source": [
    "import re # python regex module\n",
    " \n",
    "pattern = r\"aa\"\n",
    "text = \"aaa\"\n",
    " \n",
    "print ('Pattern:',pattern)\n",
    "print ('Text:',text)\n",
    "print()\n",
    " \n",
    "match_iter = re.finditer(pattern, text)\n",
    " \n",
    "print ('Match:')\n",
    "for match in match_iter:\n",
    "    print(' ', match.group(0), 'at index:', match.start())"
   ]
  },
  {
   "cell_type": "markdown",
   "metadata": {},
   "source": [
    "***\n",
    "\n",
    "How many matches are there for the pattern in the text?\n",
    "\n",
    "Pattern: apple\n",
    "\n",
    "Text: pineapple apples"
   ]
  },
  {
   "cell_type": "code",
   "execution_count": 2,
   "metadata": {},
   "outputs": [
    {
     "name": "stdout",
     "output_type": "stream",
     "text": [
      "Pattern: apple\n",
      "Text: pineapple apples\n",
      "\n",
      "Match:\n",
      "  apple at index: 4\n",
      "  apple at index: 10\n"
     ]
    }
   ],
   "source": [
    "pattern = r\"apple\"\n",
    "text = \"pineapple apples\"\n",
    " \n",
    "print ('Pattern:',pattern)\n",
    "print ('Text:',text)\n",
    "print()\n",
    " \n",
    "match_iter = re.finditer(pattern, text)\n",
    " \n",
    "print ('Match:')\n",
    "for match in match_iter:\n",
    "    print(' ', match.group(0), 'at index:', match.start())"
   ]
  },
  {
   "cell_type": "markdown",
   "metadata": {},
   "source": [
    "***\n",
    "\n",
    "How many matches are there for the pattern in the text?\n",
    "\n",
    "Pattern: apple\n",
    "\n",
    "Text: PineApple Apple"
   ]
  },
  {
   "cell_type": "code",
   "execution_count": 7,
   "metadata": {},
   "outputs": [
    {
     "name": "stdout",
     "output_type": "stream",
     "text": [
      "Pattern: apple\n",
      "Text: PineApple Apple\n",
      "\n",
      "Match:\n"
     ]
    }
   ],
   "source": [
    " \n",
    "pattern = r\"apple\"\n",
    "text = \"PineApple Apple\"\n",
    " \n",
    "print ('Pattern:',pattern)\n",
    "print ('Text:',text)\n",
    "print()\n",
    " \n",
    "match_iter = re.finditer(pattern, text)\n",
    " \n",
    "print ('Match:')\n",
    "for match in match_iter:\n",
    "    print(' ', match.group(0), 'at index:', match.start())"
   ]
  },
  {
   "cell_type": "markdown",
   "metadata": {},
   "source": [
    "***\n",
    "\n",
    "How many matches are there for the pattern in the text?\n",
    "\n",
    "Pattern: \\bapple\\b\n",
    "\n",
    "Text: pineapple apples"
   ]
  },
  {
   "cell_type": "code",
   "execution_count": 8,
   "metadata": {},
   "outputs": [
    {
     "name": "stdout",
     "output_type": "stream",
     "text": [
      "Pattern: \\bapple\\b\n",
      "Text: pineapple apples\n",
      "\n",
      "Match:\n"
     ]
    }
   ],
   "source": [
    "pattern = r\"\\bapple\\b\"\n",
    "text = \"pineapple apples\"\n",
    " \n",
    "print ('Pattern:',pattern)\n",
    "print ('Text:',text)\n",
    "print()\n",
    " \n",
    "match_iter = re.finditer(pattern, text)\n",
    " \n",
    "print ('Match:')\n",
    "for match in match_iter:\n",
    "    print(' ', match.group(0), 'at index:', match.start())"
   ]
  },
  {
   "cell_type": "markdown",
   "metadata": {},
   "source": [
    "***\n",
    "\n",
    "How many matches are there for the pattern in the text?\n",
    "\n",
    "Pattern: apple\\b\n",
    "\n",
    "Text: Pineapple apple\n",
    "\n"
   ]
  },
  {
   "cell_type": "code",
   "execution_count": 9,
   "metadata": {},
   "outputs": [
    {
     "name": "stdout",
     "output_type": "stream",
     "text": [
      "Pattern: apple\\b\n",
      "Text: Pineapple apple\n",
      "\n",
      "Match:\n",
      "  apple at index: 4\n",
      "  apple at index: 10\n"
     ]
    }
   ],
   "source": [
    "pattern = r\"apple\\b\"\n",
    "text = \"Pineapple apple\"\n",
    " \n",
    "print ('Pattern:',pattern)\n",
    "print ('Text:',text)\n",
    "print()\n",
    " \n",
    "match_iter = re.finditer(pattern, text)\n",
    " \n",
    "print ('Match:')\n",
    "for match in match_iter:\n",
    "    print(' ', match.group(0), 'at index:', match.start())"
   ]
  },
  {
   "cell_type": "markdown",
   "metadata": {},
   "source": [
    "***\n",
    "\n",
    "How many matches are there for the pattern in the text?\n",
    "\n",
    "Pattern: \\w+\n",
    "\n",
    "Text: Pine-apple Juice"
   ]
  },
  {
   "cell_type": "code",
   "execution_count": 10,
   "metadata": {},
   "outputs": [
    {
     "name": "stdout",
     "output_type": "stream",
     "text": [
      "Pattern: \\w+\n",
      "Text: Pine-apple Juice\n",
      "\n",
      "Match:\n",
      "  Pine at index: 0\n",
      "  apple at index: 5\n",
      "  Juice at index: 11\n"
     ]
    }
   ],
   "source": [
    "pattern = r\"\\w+\"\n",
    "text = \"Pine-apple Juice\"\n",
    " \n",
    "print ('Pattern:',pattern)\n",
    "print ('Text:',text)\n",
    "print()\n",
    " \n",
    "match_iter = re.finditer(pattern, text)\n",
    " \n",
    "print ('Match:')\n",
    "for match in match_iter:\n",
    "    print(' ', match.group(0), 'at index:', match.start())"
   ]
  },
  {
   "cell_type": "markdown",
   "metadata": {},
   "source": [
    "***\n",
    "\n",
    "Which pattern will match an alternating sequence of the alphabet and digit? \n",
    "\n",
    "For example, when given an Input:\n",
    "\n",
    "aa1b2  a1b2c3d4  z5d4a1  apple  12345\n",
    "\n",
    "The pattern must find two matches: \n",
    "\n",
    "a1b2c3d4\n",
    "\n",
    "z5d4a1\n",
    "\n"
   ]
  },
  {
   "cell_type": "code",
   "execution_count": 15,
   "metadata": {},
   "outputs": [
    {
     "name": "stdout",
     "output_type": "stream",
     "text": [
      "Pattern: \\b([a-z]\\d)+\\b\n",
      "Text: aa1b2 a1b2c3d4 z5d4a1 apple 12345\n",
      "\n",
      "Match:\n",
      "  a1b2c3d4 at index: 6\n",
      "  z5d4a1 at index: 15\n"
     ]
    }
   ],
   "source": [
    "pattern = r'\\b([a-z]\\d)+\\b'\n",
    "text = \"aa1b2 a1b2c3d4 z5d4a1 apple 12345\" #a1b2c3d4 z5d4a1\n",
    " \n",
    "print ('Pattern:',pattern)\n",
    "print ('Text:',text)\n",
    "print()\n",
    " \n",
    "match_iter = re.finditer(pattern, text)\n",
    " \n",
    "print ('Match:')\n",
    "for match in match_iter:\n",
    "    print(' ', match.group(0), 'at index:', match.start())  \n",
    "\n",
    "\n",
    "#The pattern \\b([a-z]\\d)+\\b has a group that matches an alphabet and a digit.\n",
    "# The quantifier + for the group indicates one or more. So, this pattern would match a repeating \n",
    "# sequence of alphabet-digit. We use word boundary anchors to prevent partial matches\n"
   ]
  },
  {
   "cell_type": "markdown",
   "metadata": {},
   "source": [
    "***\n",
    "\n",
    "Which pattern matches a 4-character word with an alternating sequence of alphabet and digit? For example, it should match a1b2 but not this text a1b2c3"
   ]
  },
  {
   "cell_type": "code",
   "execution_count": 32,
   "metadata": {},
   "outputs": [
    {
     "name": "stdout",
     "output_type": "stream",
     "text": [
      "Pattern: \\b([a-z][0-9]){2}\\b\n",
      "Text: a1b2 a1b2c3\n",
      "\n",
      "Match:\n",
      "  a1b2 at index: 0\n"
     ]
    }
   ],
   "source": [
    "pattern = r\"\\b([a-z][0-9]){2}\\b\"\n",
    "text = \"a1b2 a1b2c3\"\n",
    " \n",
    "print ('Pattern:',pattern)\n",
    "print ('Text:',text)\n",
    "print()\n",
    " \n",
    "match_iter = re.finditer(pattern, text)\n",
    " \n",
    "print ('Match:')\n",
    "for match in match_iter:\n",
    "    print(' ', match.group(0), 'at index:', match.start())\n",
    "\n",
    "#\\b([a-z][0-9]){2}\\b. We need to look for a 4-character word with an alternating alphabet \n",
    "# and digit sequence. With the word boundary anchor, we can exclude partial matches."
   ]
  },
  {
   "cell_type": "markdown",
   "metadata": {},
   "source": [
    "***\n",
    "\n",
    "Write a case insensitive pattern to match all Honda cars and model\n",
    "\n",
    "**Input Text:**\n",
    "\n",
    "Honda Civic\n",
    "\n",
    "Honda Accord\n",
    "\n",
    "Honda Insight\n",
    "\n",
    "Hyundai Accent\n",
    "\n",
    "Toyota Corolla\n",
    "\n",
    "Toyota Camry\n",
    "\n",
    "Toyota Prius\n",
    "\n",
    "Tesla Model 3\n",
    "\n",
    "**Expected Output:**\n",
    "\n",
    "Honda Civic\n",
    "\n",
    "Honda Accord\n",
    "\n",
    "Honda Insight"
   ]
  },
  {
   "cell_type": "code",
   "execution_count": 35,
   "metadata": {},
   "outputs": [
    {
     "name": "stdout",
     "output_type": "stream",
     "text": [
      "Pattern: (?im)^honda\\b.+$\n",
      "Text: Honda Civic\n",
      "Honda Accord\n",
      "Honda Insight\n",
      "Hyundai Accent\n",
      "Toyota Corolla\n",
      "Toyota Camry\n",
      "Toyota Prius\n",
      "Tesla Model 3\n",
      "\n",
      "Match:\n",
      "  Honda Civic at index: 0\n",
      "  Honda Accord at index: 12\n",
      "  Honda Insight at index: 25\n"
     ]
    }
   ],
   "source": [
    "pattern = r\"(?im)^honda\\b.+$\"\n",
    " \n",
    "# Sample multi-line text\n",
    "text = \"\"\"Honda Civic\n",
    "Honda Accord\n",
    "Honda Insight\n",
    "Hyundai Accent\n",
    "Toyota Corolla\n",
    "Toyota Camry\n",
    "Toyota Prius\n",
    "Tesla Model 3\"\"\"\n",
    " \n",
    "print ('Pattern:',pattern)\n",
    "print ('Text:',text)\n",
    "print()\n",
    " \n",
    "match_iter = re.finditer(pattern, text)\n",
    " \n",
    "print ('Match:')\n",
    "for match in match_iter:\n",
    "    print(' ', match.group(0), 'at index:', match.start())\n",
    "\n",
    "#We need to capture Honda cars and the model (case-insensitive). So, we need to use a case-insensitive flag. \n",
    "# The start of string anchor ^ and end of string anchor $ ensure the match looks for the entire text. \n",
    "# The pattern (?im)^honda\\b.+$ captures a line starting with the word honda and all other characters following it. \n",
    "# This pattern has flags (?im) for case-insensitive comparison and works on multi-line text.\n"
   ]
  },
  {
   "cell_type": "code",
   "execution_count": null,
   "metadata": {},
   "outputs": [],
   "source": []
  }
 ],
 "metadata": {
  "kernelspec": {
   "display_name": "Python 3.10.9 64-bit",
   "language": "python",
   "name": "python3"
  },
  "language_info": {
   "codemirror_mode": {
    "name": "ipython",
    "version": 3
   },
   "file_extension": ".py",
   "mimetype": "text/x-python",
   "name": "python",
   "nbconvert_exporter": "python",
   "pygments_lexer": "ipython3",
   "version": "3.10.9"
  },
  "orig_nbformat": 4,
  "vscode": {
   "interpreter": {
    "hash": "b0fa6594d8f4cbf19f97940f81e996739fb7646882a419484c72d19e05852a7e"
   }
  }
 },
 "nbformat": 4,
 "nbformat_minor": 2
}
