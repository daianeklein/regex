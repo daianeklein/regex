{
 "cells": [
  {
   "cell_type": "markdown",
   "metadata": {},
   "source": [
    "Write a pattern that checks for the USA Zip Code. \n",
    "\n",
    "The zip code format is 99999 or 99999-9999, where 9 represents a digit [0-9]\n",
    "\n",
    "Input:\n",
    "\n",
    "12345\n",
    "12234-1223\n",
    "1234\n",
    "123456\n",
    "abcde\n",
    "\n",
    "\n",
    "Expected Output:\n",
    "\n",
    "12345\n",
    "12234-1223"
   ]
  },
  {
   "cell_type": "code",
   "execution_count": 27,
   "metadata": {},
   "outputs": [
    {
     "name": "stdout",
     "output_type": "stream",
     "text": [
      "Pattern: ^\\d{5}-(\\d{4}?$)\n",
      "\n",
      "Text: 12345\n",
      "Text: 12234-1223\n",
      " **match** 12234-1223 at index: 0\n",
      "Text: 1234\n",
      "Text: 123456\n",
      "Text: abcde\n"
     ]
    }
   ],
   "source": [
    "import re # python regex module\n",
    " \n",
    "# postal code iteration\n",
    "pattern = r\"^\\d{5}-(\\d{4}?$)\" # provide your pattern\n",
    "test_data = [\"12345\",\"12234-1223\",\"1234\",\"123456\",\"abcde\"]\n",
    " \n",
    "print ('Pattern:',pattern)\n",
    "print()\n",
    " \n",
    "for text in test_data:\n",
    "    print('Text:', text)\n",
    "    match = re.search(pattern, text)\n",
    " \n",
    "    if match:\n",
    "        print(' **match**', match.group(0), 'at index:', match.start())"
   ]
  },
  {
   "cell_type": "markdown",
   "metadata": {},
   "source": [
    "***\n",
    "\n",
    "Write a pattern that checks for the Canadian Postal Code. \n",
    "\n",
    "Format is: A9A 9A9 where, A represents a letter [a-zA-Z] and 9 represents a digit [0-9]\n",
    "\n",
    "Input:\n",
    "\n",
    "L3V 0A0\n",
    "L3V 9Z9\n",
    "1234\n",
    "123456\n",
    "abcde\n",
    "L6S 0A0\n",
    "6L5 A0A\n",
    "\n",
    "\n",
    "Expected Output:\n",
    "\n",
    "L3V 0A0\n",
    "L3V 9Z9\n",
    "L6S 0A0\n"
   ]
  },
  {
   "cell_type": "code",
   "execution_count": 34,
   "metadata": {},
   "outputs": [
    {
     "name": "stdout",
     "output_type": "stream",
     "text": [
      "Pattern: (?i)^[a-z]\\d[a-z][ ]\\d[a-z]\\d$\n",
      "\n",
      " **match** L3V 0A0 at index: 0\n",
      " **match** L3V 9Z9 at index: 0\n",
      "\n",
      "\n",
      "\n",
      " **match** L6S 0A0 at index: 0\n",
      "\n",
      "\n"
     ]
    }
   ],
   "source": [
    "pattern = r\"(?i)^[a-z]\\d[a-z][ ]\\d[a-z]\\d$\" # provide your pattern\n",
    "test_data = [\"L3V 0A0\",\"L3V 9Z9\",\"1234\",\"123456\",\"abcde\",\"L6S 0A0\",\"6L5 A0A\",\"233A6S 0A012345\"]\n",
    " \n",
    "print ('Pattern:',pattern)\n",
    "print()\n",
    " \n",
    "for text in test_data:\n",
    "    #print('Text:', text)\n",
    "    match = re.search(pattern, text)\n",
    " \n",
    "    if match:\n",
    "        print(' **match**', match.group(0), 'at index:', match.start())\n",
    "    else:\n",
    "        print('')"
   ]
  },
  {
   "cell_type": "markdown",
   "metadata": {},
   "source": [
    "***\n",
    "\n",
    "Write a pattern that checks for the Indian Postal Code.\n",
    "\n",
    "The format is: 999999 where, 9 represents a digit [0-9]\n",
    "\n",
    "Input:\n",
    "\n",
    "744302\n",
    "744301\n",
    "783129\n",
    "403801\n",
    "abcdef\n",
    "99999999\n",
    "6L5 A0A\n",
    "123456\n",
    "0A0123456\n",
    "\n",
    "\n",
    "Expected Output:\n",
    "\n",
    "744302\n",
    "744301\n",
    "783129\n",
    "403801\n",
    "123456\n",
    "\n",
    "\n"
   ]
  },
  {
   "cell_type": "code",
   "execution_count": 35,
   "metadata": {},
   "outputs": [
    {
     "name": "stdout",
     "output_type": "stream",
     "text": [
      "Pattern: ^\\d{6}$\n",
      "\n",
      "Text: 744302\n",
      " **match** 744302 at index: 0\n",
      "Text: 744301\n",
      " **match** 744301 at index: 0\n",
      "Text: 783129\n",
      " **match** 783129 at index: 0\n",
      "Text: 403801\n",
      " **match** 403801 at index: 0\n",
      "Text: abcde\n",
      "Text: 99999999\n",
      "Text: 6L5 A0A\n",
      "Text: 123456\n",
      " **match** 123456 at index: 0\n",
      "Text: 0A0123456\n"
     ]
    }
   ],
   "source": [
    "# postal code iteration\n",
    "pattern = r\"^\\d{6}$\" # provide your pattern\n",
    "test_data = [\"744302\",\"744301\",\"783129\",\"403801\",\"abcde\",\"99999999\",\"6L5 A0A\",\"123456\", \"0A0123456\"] # list of input\n",
    " \n",
    "print ('Pattern:',pattern)\n",
    "print()\n",
    " \n",
    "for text in test_data:\n",
    "    print('Text:', text)\n",
    "    match = re.search(pattern, text)\n",
    " \n",
    "    if match:\n",
    "        print(' **match**', match.group(0), 'at index:', match.start())"
   ]
  },
  {
   "cell_type": "code",
   "execution_count": null,
   "metadata": {},
   "outputs": [],
   "source": []
  }
 ],
 "metadata": {
  "kernelspec": {
   "display_name": "Python 3.10.9 64-bit",
   "language": "python",
   "name": "python3"
  },
  "language_info": {
   "codemirror_mode": {
    "name": "ipython",
    "version": 3
   },
   "file_extension": ".py",
   "mimetype": "text/x-python",
   "name": "python",
   "nbconvert_exporter": "python",
   "pygments_lexer": "ipython3",
   "version": "3.10.9"
  },
  "orig_nbformat": 4,
  "vscode": {
   "interpreter": {
    "hash": "b0fa6594d8f4cbf19f97940f81e996739fb7646882a419484c72d19e05852a7e"
   }
  }
 },
 "nbformat": 4,
 "nbformat_minor": 2
}
