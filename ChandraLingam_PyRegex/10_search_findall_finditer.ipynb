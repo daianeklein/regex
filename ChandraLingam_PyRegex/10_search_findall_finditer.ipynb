{
 "cells": [
  {
   "cell_type": "markdown",
   "metadata": {},
   "source": [
    "# 10. RE Module - Search, FindAll, FindIter, Groups"
   ]
  },
  {
   "cell_type": "code",
   "execution_count": 1,
   "metadata": {},
   "outputs": [],
   "source": [
    "import re"
   ]
  },
  {
   "cell_type": "markdown",
   "metadata": {},
   "source": [
    "## re.search \n",
    "\n",
    "Find the first match anywhere"
   ]
  },
  {
   "cell_type": "code",
   "execution_count": 8,
   "metadata": {},
   "outputs": [
    {
     "data": {
      "text/plain": [
       "'4'"
      ]
     },
     "execution_count": 8,
     "metadata": {},
     "output_type": "execute_result"
    }
   ],
   "source": [
    "pattern = r'\\d'\n",
    "text = '42 is my lucky number'\n",
    "\n",
    "#match = re.search(pattern, text) #re.search(r'\\d+', '42 is my lucky number')\n",
    "re.search(r'\\d+', 'is my 4 2 lucky number, 54 too').group(0)"
   ]
  },
  {
   "cell_type": "code",
   "execution_count": 9,
   "metadata": {},
   "outputs": [],
   "source": [
    "def is_integer():\n",
    "    pattern = r'^\\d+$'\n",
    "\n",
    "    match = re.search(pattern, text)\n",
    "\n",
    "    if match:\n",
    "        return True\n",
    "    else:\n",
    "        return False"
   ]
  },
  {
   "cell_type": "code",
   "execution_count": 14,
   "metadata": {},
   "outputs": [
    {
     "name": "stdout",
     "output_type": "stream",
     "text": [
      "4\n",
      "42\n"
     ]
    }
   ],
   "source": [
    "print(re.search(r'\\d', '4 is my lucky number, so is 54!').group(0)) #only the first number\n",
    "\n",
    "print(re.search(r'\\d+', '42 is my lucky number, so is 54!').group(0)) #all number"
   ]
  },
  {
   "cell_type": "markdown",
   "metadata": {},
   "source": [
    "***\n",
    "\n",
    "Difference between:\n",
    "\n",
    "- (+) ---> one or more digits\n",
    "\n",
    "- (^) --->  success)\n",
    "\n",
    "- (^) ---> failed"
   ]
  },
  {
   "cell_type": "code",
   "execution_count": 21,
   "metadata": {},
   "outputs": [
    {
     "name": "stdout",
     "output_type": "stream",
     "text": [
      "4\n",
      "None\n",
      "42\n"
     ]
    }
   ],
   "source": [
    "print(re.search(r'^\\d', '4 is my lucky number, so is 54!').group(0)) #only the first number\n",
    "\n",
    "print(re.search(r'^\\d+', 'is my lucky number, so is 54!')) #none - ^ in the beginning\n",
    "\n",
    "print(re.search(r'\\d+', 'my lucky number: 42, so is 54!').group(0))"
   ]
  },
  {
   "cell_type": "markdown",
   "metadata": {},
   "source": [
    "***\n",
    "\n",
    "$ - At the end of the string"
   ]
  },
  {
   "cell_type": "code",
   "execution_count": 35,
   "metadata": {},
   "outputs": [
    {
     "name": "stdout",
     "output_type": "stream",
     "text": [
      "42\n",
      "None\n",
      "54\n",
      "None\n",
      "54\n"
     ]
    }
   ],
   "source": [
    "print(re.search(r'\\d+', '42 is my lucky number!, so is 54!').group(0)) #42\n",
    "\n",
    "print(re.search(r'\\d+$', '42 is my lucky number!, so is 54!')) #none\n",
    "\n",
    "print(re.search(r'\\d+$', '42 is my lucky number!, so is 54').group(0)) # 54\n",
    "\n",
    "print(re.search(r'^\\d+$', '42 is my lucky number!, so is 54')) # none\n",
    "\n",
    "print(re.search(r'\\d+$', 'my lucky number is 42 and 54').group(0)) # 54"
   ]
  },
  {
   "cell_type": "markdown",
   "metadata": {},
   "source": [
    "## Findall\n",
    "\n",
    "Find all matches\n",
    "\n",
    "**Note** This method returns only after scanning the entire text"
   ]
  },
  {
   "cell_type": "code",
   "execution_count": 38,
   "metadata": {},
   "outputs": [
    {
     "name": "stdout",
     "output_type": "stream",
     "text": [
      "Pattern \\d+\n"
     ]
    },
    {
     "data": {
      "text/plain": [
       "['1001', '1002', '1003', '1004']"
      ]
     },
     "execution_count": 38,
     "metadata": {},
     "output_type": "execute_result"
    }
   ],
   "source": [
    "pattern = r'\\d+'\n",
    "text = 'NY Postal  codes are 1001, 1002, 1003, 1004'\n",
    "\n",
    "print('Pattern', pattern)\n",
    "\n",
    "re.findall(pattern, text)"
   ]
  },
  {
   "cell_type": "markdown",
   "metadata": {},
   "source": [
    "## re.finditer - Iterator\n",
    "\n",
    "**Note** This method returns an iterator with the first match and you have control to ask for more matches"
   ]
  },
  {
   "cell_type": "code",
   "execution_count": 42,
   "metadata": {},
   "outputs": [
    {
     "name": "stdout",
     "output_type": "stream",
     "text": [
      "Pattern \\d+\n",
      "1001 at index: 21\n",
      "1002 at index: 27\n",
      "1003 at index: 33\n",
      "1004 at index: 39\n"
     ]
    }
   ],
   "source": [
    "pattern = r'\\d+'\n",
    "text = 'NY Postal  codes are 1001, 1002, 1003, 1004'\n",
    "\n",
    "print('Pattern', pattern)\n",
    "\n",
    "match_inter = re.finditer(pattern, text)\n",
    "\n",
    "for match in match_inter:\n",
    "    print(match.group(0), 'at index:', match.start())\n"
   ]
  },
  {
   "cell_type": "code",
   "execution_count": 43,
   "metadata": {},
   "outputs": [
    {
     "name": "stdout",
     "output_type": "stream",
     "text": [
      "Pattern \\d+\n",
      "1001 at index: 21\n",
      "1002 at index: 27\n",
      "1003 at index: 33\n"
     ]
    }
   ],
   "source": [
    "# creating a break\n",
    "\n",
    "pattern = r'\\d+'\n",
    "text = 'NY Postal  codes are 1001, 1002, 1003, 1004'\n",
    "\n",
    "print('Pattern', pattern)\n",
    "\n",
    "match_inter = re.finditer(pattern, text)\n",
    "\n",
    "i = 0\n",
    "for match in match_inter:\n",
    "    print(match.group(0), 'at index:', match.start())\n",
    "    i += 1\n",
    "\n",
    "    if i > 2:\n",
    "        break\n",
    "\n",
    "\n"
   ]
  },
  {
   "cell_type": "markdown",
   "metadata": {},
   "source": [
    "## Groups - Find sub matches"
   ]
  },
  {
   "cell_type": "code",
   "execution_count": 44,
   "metadata": {},
   "outputs": [
    {
     "name": "stdout",
     "output_type": "stream",
     "text": [
      "2 at index:  12\n"
     ]
    }
   ],
   "source": [
    "pattern = r'\\d'\n",
    "text = 'Start Date: 20200920' #year = 2020, month = 09, day = 20\n",
    "\n",
    "match = re.search(pattern, text)\n",
    "\n",
    "if match:\n",
    "    print(match.group(0), 'at index: ', match.start())\n",
    "else:\n",
    "    print('no match')"
   ]
  },
  {
   "cell_type": "markdown",
   "metadata": {},
   "source": [
    "### Quantifiers\n",
    "\n",
    "{n} - Exactly n times"
   ]
  },
  {
   "cell_type": "code",
   "execution_count": 48,
   "metadata": {},
   "outputs": [
    {
     "name": "stdout",
     "output_type": "stream",
     "text": [
      "20200920 at index:  12\n",
      "Groups ('2020', '09', '20')\n",
      "2020\n"
     ]
    }
   ],
   "source": [
    "pattern = r'(\\d{4})(\\d{2})(\\d{2})'\n",
    "text = 'Start Date: 20200920' #year = 2020, month = 09, day = 20\n",
    "\n",
    "match = re.search(pattern, text)\n",
    "\n",
    "if match:\n",
    "    print(match.group(0), 'at index: ', match.start())\n",
    "    print('Groups', match.groups())\n",
    "\n",
    "    print(match.group(1)) #first group\n",
    "else:\n",
    "    print('no match')"
   ]
  },
  {
   "cell_type": "code",
   "execution_count": 52,
   "metadata": {},
   "outputs": [
    {
     "name": "stdout",
     "output_type": "stream",
     "text": [
      "20200920 at index:  12\n",
      "Groups ('2020', '09', '20')\n",
      "Group 1 2020 at index:  12\n",
      "Group 2 09 at index:  16\n",
      "Group 3 20 at index:  18\n"
     ]
    }
   ],
   "source": [
    "# enumerate\n",
    "pattern = r'(\\d{4})(\\d{2})(\\d{2})'\n",
    "text = 'Start Date: 20200920' #year = 2020, month = 09, day = 20\n",
    "\n",
    "match = re.search(pattern, text)\n",
    "\n",
    "if match:\n",
    "    print(match.group(0), 'at index: ', match.start())\n",
    "    print('Groups', match.groups())\n",
    "\n",
    "    for idx, value in enumerate(match.groups()):\n",
    "        print('Group', idx + 1, value, 'at index: ', match.start(idx+1))\n",
    "else:\n",
    "    print('no match')\n"
   ]
  },
  {
   "cell_type": "code",
   "execution_count": 56,
   "metadata": {},
   "outputs": [
    {
     "name": "stdout",
     "output_type": "stream",
     "text": [
      "20200920 at index:  12\n",
      "\t {'year': '2020', 'month': '09', 'day': '20'}\n",
      "\t {'year': '2020', 'month': '09', 'day': '20'}\n"
     ]
    }
   ],
   "source": [
    "#renaming groups and using dictionaries\n",
    "\n",
    "# enumerate\n",
    "pattern = r'(?P<year>\\d{4})(?P<month>\\d{2})(?P<day>\\d{2})'\n",
    "text = 'Start Date: 20200920' #year = 2020, month = 09, day = 20\n",
    "\n",
    "match = re.search(pattern, text)\n",
    "\n",
    "if match:\n",
    "    print(match.group(0), 'at index: ', match.start())\n",
    "    print('\\t', match.groupdict())\n",
    "\n",
    "\n",
    "else:\n",
    "    print('no match')\n"
   ]
  },
  {
   "cell_type": "code",
   "execution_count": 60,
   "metadata": {},
   "outputs": [
    {
     "name": "stdout",
     "output_type": "stream",
     "text": [
      "20200920 at index:  12\n",
      "\tyear: 2020\n",
      "\tmonth: 09\n",
      "\tday: 20\n"
     ]
    }
   ],
   "source": [
    "#by group name\n",
    "\n",
    "# enumerate\n",
    "pattern = r'(?P<year>\\d{4})(?P<month>\\d{2})(?P<day>\\d{2})'\n",
    "text = 'Start Date: 20200920' #year = 2020, month = 09, day = 20\n",
    "\n",
    "match = re.search(pattern, text)\n",
    "\n",
    "if match:\n",
    "    print(match.group(0), 'at index: ', match.start())\n",
    "    print('\\tyear:', match.group('year'))\n",
    "    print('\\tmonth:', match.group('month'))\n",
    "    print('\\tday:', match.group('day'))\n",
    "\n",
    "else:\n",
    "    print('no match')\n"
   ]
  },
  {
   "cell_type": "code",
   "execution_count": null,
   "metadata": {},
   "outputs": [],
   "source": []
  }
 ],
 "metadata": {
  "kernelspec": {
   "display_name": "Python 3.10.9 64-bit",
   "language": "python",
   "name": "python3"
  },
  "language_info": {
   "codemirror_mode": {
    "name": "ipython",
    "version": 3
   },
   "file_extension": ".py",
   "mimetype": "text/x-python",
   "name": "python",
   "nbconvert_exporter": "python",
   "pygments_lexer": "ipython3",
   "version": "3.10.9"
  },
  "orig_nbformat": 4,
  "vscode": {
   "interpreter": {
    "hash": "b0fa6594d8f4cbf19f97940f81e996739fb7646882a419484c72d19e05852a7e"
   }
  }
 },
 "nbformat": 4,
 "nbformat_minor": 2
}
