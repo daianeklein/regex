{
 "cells": [
  {
   "cell_type": "code",
   "execution_count": 1,
   "metadata": {},
   "outputs": [],
   "source": [
    "import re"
   ]
  },
  {
   "cell_type": "code",
   "execution_count": 4,
   "metadata": {},
   "outputs": [
    {
     "name": "stdout",
     "output_type": "stream",
     "text": [
      "123 123,456 123,456,789 123,456,789.98\n",
      "['123', '123', '456', '123', '456', '789', '123', '456', '789', '98']\n"
     ]
    }
   ],
   "source": [
    "pattern = '\\d+'\n",
    "text = '123 123,456 123,456,789 123,456,789.98'\n",
    "\n",
    "print(text)\n",
    "print(re.findall(pattern, text))"
   ]
  },
  {
   "cell_type": "code",
   "execution_count": 6,
   "metadata": {},
   "outputs": [
    {
     "name": "stdout",
     "output_type": "stream",
     "text": [
      "123 123,456 123,456,789 123,456,789.98\n",
      "['', ',456', ',789', ',789', '']\n"
     ]
    }
   ],
   "source": [
    "# 3 digits\n",
    "pattern = '\\d+(,\\d{3})*'\n",
    "text = '123 123,456 123,456,789 123,456,789.98'\n",
    "\n",
    "print(text)\n",
    "print(re.findall(pattern, text))"
   ]
  },
  {
   "cell_type": "code",
   "execution_count": 7,
   "metadata": {},
   "outputs": [
    {
     "name": "stdout",
     "output_type": "stream",
     "text": [
      "123 123,456 123,456,789 123,456,789.98\n",
      "[('', ''), (',456', ''), (',789', ''), (',789', '.98')]\n"
     ]
    }
   ],
   "source": [
    "# 2 decimals - optional - that's why there's the question mark\n",
    "pattern = '\\d+(,\\d{3})*(\\.\\d{2})?'\n",
    "text = '123 123,456 123,456,789 123,456,789.98'\n",
    "\n",
    "print(text)\n",
    "print(re.findall(pattern, text))"
   ]
  },
  {
   "cell_type": "code",
   "execution_count": 8,
   "metadata": {},
   "outputs": [
    {
     "name": "stdout",
     "output_type": "stream",
     "text": [
      "123 123,456 123,456,789 123,456,789.98\n",
      "['123', '123,456', '123,456,789', '123,456,789', '98']\n"
     ]
    }
   ],
   "source": [
    "# 2 decimals - optional - that's why there's the question mark\n",
    "pattern = '\\d+(?:,\\d{3})*(?:,\\.\\d{2})?'\n",
    "text = '123 123,456 123,456,789 123,456,789.98'\n",
    "\n",
    "print(text)\n",
    "print(re.findall(pattern, text))"
   ]
  },
  {
   "cell_type": "code",
   "execution_count": 9,
   "metadata": {},
   "outputs": [
    {
     "name": "stdout",
     "output_type": "stream",
     "text": [
      "capture duplicate duplicate words this is another another sentence\n",
      "['capture', 'duplicate', 'duplicate', 'words', 'this', 'is', 'another', 'another', 'sentence']\n"
     ]
    }
   ],
   "source": [
    "# backreference\n",
    "pattern = '\\w+'\n",
    "text = 'capture duplicate duplicate words this is another another sentence'\n",
    "\n",
    "print(text)\n",
    "print(re.findall(pattern, text))"
   ]
  },
  {
   "cell_type": "code",
   "execution_count": 13,
   "metadata": {},
   "outputs": [
    {
     "name": "stdout",
     "output_type": "stream",
     "text": [
      "capture duplicate duplicate words this is another another sentence\n",
      "capture\n",
      "{'word': 'capture'}\n"
     ]
    }
   ],
   "source": [
    "# backreference - group named\n",
    "pattern = '(?P<word>\\w+)'\n",
    "text = 'capture duplicate duplicate words this is another another sentence'\n",
    "\n",
    "print(text)\n",
    "\n",
    "\n",
    "match = re.search(pattern, text)\n",
    "if match:\n",
    "    print(match.group(0))\n",
    "    print(match.groupdict())\n"
   ]
  },
  {
   "cell_type": "code",
   "execution_count": 18,
   "metadata": {},
   "outputs": [
    {
     "name": "stdout",
     "output_type": "stream",
     "text": [
      "capture duplicate duplicate words this is another another sentence\n",
      "duplicate duplicate\n",
      "duplicate\n",
      "{'word': 'duplicate'}\n"
     ]
    }
   ],
   "source": [
    "# backreference - group named / duplicated words\n",
    "pattern = '(?P<word>\\w+)\\s+(?P=word)'\n",
    "text = 'capture duplicate duplicate words this is another another sentence'\n",
    "\n",
    "print(text)\n",
    "\n",
    "\n",
    "match = re.search(pattern, text)\n",
    "if match:\n",
    "    print(match.group(0))\n",
    "    print(match.group(1))\n",
    "    print(match.groupdict())\n"
   ]
  },
  {
   "cell_type": "code",
   "execution_count": 32,
   "metadata": {},
   "outputs": [
    {
     "name": "stdout",
     "output_type": "stream",
     "text": [
      "capture duplicate duplicate words this is another another sentence\n"
     ]
    }
   ],
   "source": [
    "# backreference - group named / duplicated words / word boundaries\n",
    "pattern = '(?P<word>\\b\\w+\\b)\\s+(?P=word)'\n",
    "text = 'capture duplicate duplicate words this is another another sentence'\n",
    "\n",
    "print(text)\n",
    "\n",
    "\n",
    "match = re.findall(pattern, text)\n",
    "if match:\n",
    "    print(match)\n",
    "\n",
    "\n"
   ]
  },
  {
   "cell_type": "code",
   "execution_count": null,
   "metadata": {},
   "outputs": [],
   "source": []
  }
 ],
 "metadata": {
  "kernelspec": {
   "display_name": "Python 3.10.9 64-bit",
   "language": "python",
   "name": "python3"
  },
  "language_info": {
   "codemirror_mode": {
    "name": "ipython",
    "version": 3
   },
   "file_extension": ".py",
   "mimetype": "text/x-python",
   "name": "python",
   "nbconvert_exporter": "python",
   "pygments_lexer": "ipython3",
   "version": "3.10.9"
  },
  "orig_nbformat": 4,
  "vscode": {
   "interpreter": {
    "hash": "b0fa6594d8f4cbf19f97940f81e996739fb7646882a419484c72d19e05852a7e"
   }
  }
 },
 "nbformat": 4,
 "nbformat_minor": 2
}
