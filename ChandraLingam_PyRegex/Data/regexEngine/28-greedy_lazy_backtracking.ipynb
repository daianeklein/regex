{
 "cells": [
  {
   "cell_type": "code",
   "execution_count": 1,
   "metadata": {},
   "outputs": [],
   "source": [
    "import re"
   ]
  },
  {
   "cell_type": "code",
   "execution_count": 9,
   "metadata": {},
   "outputs": [
    {
     "name": "stdout",
     "output_type": "stream",
     "text": [
      "['8']\n"
     ]
    }
   ],
   "source": [
    "pattern = '.+(\\d+)'\n",
    "text = 'first 1234. Second 5678'\n",
    "\n",
    "print(re.findall(pattern, text))"
   ]
  },
  {
   "cell_type": "code",
   "execution_count": 18,
   "metadata": {},
   "outputs": [
    {
     "name": "stdout",
     "output_type": "stream",
     "text": [
      "['4']\n"
     ]
    }
   ],
   "source": [
    "pattern = '.+(\\d+)[.]'\n",
    "text = 'first 1234. Second 5678'\n",
    "\n",
    "print(re.findall(pattern, text))"
   ]
  },
  {
   "cell_type": "code",
   "execution_count": 17,
   "metadata": {},
   "outputs": [
    {
     "name": "stdout",
     "output_type": "stream",
     "text": [
      "['1234']\n"
     ]
    }
   ],
   "source": [
    "#lazy\n",
    "pattern = '.+?(\\d+)[.]'\n",
    "text = 'first 1234. Second 5678'\n",
    "\n",
    "print(re.findall(pattern, text))"
   ]
  },
  {
   "cell_type": "code",
   "execution_count": 19,
   "metadata": {},
   "outputs": [
    {
     "name": "stdout",
     "output_type": "stream",
     "text": [
      "['1234']\n"
     ]
    }
   ],
   "source": [
    "#lazy\n",
    "pattern = '[^\\d]*(\\d+)[.]'\n",
    "text = 'first 1234. Second 5678'\n",
    "\n",
    "print(re.findall(pattern, text))"
   ]
  },
  {
   "cell_type": "markdown",
   "metadata": {},
   "source": [
    "### Second example"
   ]
  },
  {
   "cell_type": "code",
   "execution_count": 20,
   "metadata": {},
   "outputs": [
    {
     "name": "stdout",
     "output_type": "stream",
     "text": [
      "['applepaste', 'APPLEPIE']\n"
     ]
    }
   ],
   "source": [
    "pattern = '(?i)applepastry|applepaste|applepie'\n",
    "text = 'twenty popular recipes to make applepaste popular APPLEPIE RECIPE'\n",
    "\n",
    "print(re.findall(pattern, text))"
   ]
  },
  {
   "cell_type": "code",
   "execution_count": 21,
   "metadata": {},
   "outputs": [
    {
     "name": "stdout",
     "output_type": "stream",
     "text": [
      "['applepaste']\n"
     ]
    }
   ],
   "source": [
    "# word boundary\n",
    "pattern = '(?i)\\bapplepastry|applepaste|applepie\\b'\n",
    "text = 'twenty popular recipes to make applepaste popular APPLEPIE RECIPE'\n",
    "\n",
    "print(re.findall(pattern, text))"
   ]
  },
  {
   "cell_type": "code",
   "execution_count": 27,
   "metadata": {},
   "outputs": [
    {
     "name": "stdout",
     "output_type": "stream",
     "text": [
      "[]\n"
     ]
    }
   ],
   "source": [
    "# word boundary\n",
    "pattern = '(?i)\\b(apple(past(ry|e)|(pie)))\\b'\n",
    "text = 'TWENTY POPULAR RECIPES TO MAKE APPLEPASTE POPULAR APPLEPIE RECIPE'\n",
    "\n",
    "print(re.findall(pattern, text))"
   ]
  }
 ],
 "metadata": {
  "kernelspec": {
   "display_name": "Python 3.10.9 64-bit",
   "language": "python",
   "name": "python3"
  },
  "language_info": {
   "codemirror_mode": {
    "name": "ipython",
    "version": 3
   },
   "file_extension": ".py",
   "mimetype": "text/x-python",
   "name": "python",
   "nbconvert_exporter": "python",
   "pygments_lexer": "ipython3",
   "version": "3.10.9"
  },
  "orig_nbformat": 4,
  "vscode": {
   "interpreter": {
    "hash": "b0fa6594d8f4cbf19f97940f81e996739fb7646882a419484c72d19e05852a7e"
   }
  }
 },
 "nbformat": 4,
 "nbformat_minor": 2
}
