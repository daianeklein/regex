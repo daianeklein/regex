{
 "cells": [
  {
   "cell_type": "code",
   "execution_count": 1,
   "metadata": {},
   "outputs": [],
   "source": [
    "import re"
   ]
  },
  {
   "cell_type": "code",
   "execution_count": 2,
   "metadata": {},
   "outputs": [
    {
     "name": "stdout",
     "output_type": "stream",
     "text": [
      "['japanese', '私は学生です,', '123,', 'arabic', 'كيف', 'حالك؟']\n"
     ]
    }
   ],
   "source": [
    "pattern = '\\w[^\\s]*'\n",
    "text = 'japanese 私は学生です, 123, arabic كيف حالك؟'\n",
    "\n",
    "print(text)\n",
    "print(re.findall(pattern, text))\n"
   ]
  },
  {
   "cell_type": "code",
   "execution_count": 3,
   "metadata": {},
   "outputs": [
    {
     "name": "stdout",
     "output_type": "stream",
     "text": [
      "japanese 私は学生です, 123, arabic كيف حالك؟\n",
      "['私は学生です,', 'كيف', 'حالك؟']\n"
     ]
    }
   ],
   "source": [
    "pattern = '(?=[^A-Za-z0-9])\\w[^\\s]*'\n",
    "text = 'japanese 私は学生です, 123, arabic كيف حالك؟'\n",
    "\n",
    "print(text)\n",
    "print(re.findall(pattern, text))\n"
   ]
  },
  {
   "cell_type": "code",
   "execution_count": 4,
   "metadata": {},
   "outputs": [
    {
     "name": "stdout",
     "output_type": "stream",
     "text": [
      "japanese 私は学生です, 123, arabic كيف حالك؟\n",
      "['japanese', '123,', 'arabic']\n"
     ]
    }
   ],
   "source": [
    "# negative lookahead\n",
    "pattern = '(?![^A-Za-z0-9])\\w[^\\s]*'\n",
    "text = 'japanese 私は学生です, 123, arabic كيف حالك؟'\n",
    "\n",
    "print(text)\n",
    "print(re.findall(pattern, text))\n"
   ]
  },
  {
   "cell_type": "code",
   "execution_count": null,
   "metadata": {},
   "outputs": [],
   "source": []
  }
 ],
 "metadata": {
  "kernelspec": {
   "display_name": "Python 3.10.9 64-bit",
   "language": "python",
   "name": "python3"
  },
  "language_info": {
   "codemirror_mode": {
    "name": "ipython",
    "version": 3
   },
   "file_extension": ".py",
   "mimetype": "text/x-python",
   "name": "python",
   "nbconvert_exporter": "python",
   "pygments_lexer": "ipython3",
   "version": "3.10.9"
  },
  "orig_nbformat": 4,
  "vscode": {
   "interpreter": {
    "hash": "b0fa6594d8f4cbf19f97940f81e996739fb7646882a419484c72d19e05852a7e"
   }
  }
 },
 "nbformat": 4,
 "nbformat_minor": 2
}
