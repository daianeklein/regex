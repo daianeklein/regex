{
 "cells": [
  {
   "cell_type": "markdown",
   "metadata": {},
   "source": [
    "# Exercise 1: Extract all words starting with \"s\" or \"S\" from a string.\n"
   ]
  },
  {
   "cell_type": "code",
   "execution_count": 43,
   "metadata": {},
   "outputs": [
    {
     "name": "stdout",
     "output_type": "stream",
     "text": [
      "['She', 'sells', 'seashells', 'seashore']\n"
     ]
    }
   ],
   "source": [
    "import re\n",
    "\n",
    "string = \"She sells seashells by the seashore.\"\n",
    "pattern = r'[s]\\w+'\n",
    "result = re.findall(pattern, string, flags=re.I)\n",
    "\n",
    "print(result)"
   ]
  },
  {
   "cell_type": "markdown",
   "metadata": {},
   "source": [
    "# Exercise 2: Replace all occurrences of \"dog\" with \"cat\" in a string, ignoring case."
   ]
  },
  {
   "cell_type": "code",
   "execution_count": 45,
   "metadata": {},
   "outputs": [
    {
     "name": "stdout",
     "output_type": "stream",
     "text": [
      "My cat is the best cat ever.\n"
     ]
    }
   ],
   "source": [
    "import re\n",
    "\n",
    "string = \"My dog is the best dog ever.\"\n",
    "pattern = r'\\bdog\\b'\n",
    "result = re.sub(pattern, \"cat\", string, flags=re.IGNORECASE)\n",
    "\n",
    "print(result)\n"
   ]
  },
  {
   "cell_type": "markdown",
   "metadata": {},
   "source": [
    "# Exercise 3: Find all email addresses in a string."
   ]
  },
  {
   "cell_type": "code",
   "execution_count": 101,
   "metadata": {},
   "outputs": [
    {
     "name": "stdout",
     "output_type": "stream",
     "text": [
      "['info@example.com', 'support@example.net']\n"
     ]
    }
   ],
   "source": [
    "import re\n",
    "\n",
    "string = \"Please contact us at info@example.com or support@example.net for further information.\"\n",
    "pattern = r'\\b[\\w.-]+@[\\w.-]+\\.\\w{2,}\\b'\n",
    "result = re.findall(pattern, string)\n",
    "\n",
    "print(result)\n",
    "\n",
    "\n",
    "# string = \"The black cat is not the same as the white cat.\"\n",
    "# pattern = r'(?<=the\\s)cat'\n",
    "# result = re.findall(pattern, string)\n",
    "\n",
    "# print(result)\n"
   ]
  },
  {
   "cell_type": "code",
   "execution_count": 117,
   "metadata": {},
   "outputs": [
    {
     "name": "stdout",
     "output_type": "stream",
     "text": [
      "['info@example.com', 'support@example.net', 'daiane@gmail.com', 'shera@mustafa.net', 'tedfred@123.gov', 'lili123@yahoo.com.br']\n"
     ]
    }
   ],
   "source": [
    "import re\n",
    "\n",
    "string = \"Please contact us at info@example.com or support@example.net for further information. \\\n",
    "    you can also contact daiane@gmail.com or shera@mustafa.net \\\n",
    "    tedfred@123.gov is a good friends but if you want a friendly person, get in touch lili123@yahoo.com.br\"\n",
    "\n",
    "pattern = r'\\b[\\w.]+@[\\w.]+\\b'\n",
    "result = re.findall(pattern, string)\n",
    "\n",
    "print(result)\n",
    "\n",
    "#pattern = r'\\b[\\w.-]+@[\\w.-]+\\.\\w{2,}\\b'\n",
    "\n"
   ]
  },
  {
   "cell_type": "markdown",
   "metadata": {},
   "source": [
    "# Exercise 4: Extract all words ending with \"ing\" from a string.\n"
   ]
  },
  {
   "cell_type": "code",
   "execution_count": 121,
   "metadata": {},
   "outputs": [
    {
     "name": "stdout",
     "output_type": "stream",
     "text": [
      "['Walking', 'singing']\n"
     ]
    }
   ],
   "source": [
    "import re\n",
    "\n",
    "string = \"Walking is good exercise. She is singing a song.\"\n",
    "pattern = r'\\b[\\w.]+ing'\n",
    "result = re.findall(pattern, string)\n",
    "\n",
    "print(result)\n"
   ]
  },
  {
   "cell_type": "markdown",
   "metadata": {},
   "source": [
    "# Exercise 5: Replace all occurrences of \"the\" with \"a\" in a string, ignoring case\n"
   ]
  },
  {
   "cell_type": "code",
   "execution_count": null,
   "metadata": {},
   "outputs": [],
   "source": [
    "import re\n",
    "\n",
    "string = \"The quick brown fox jumps over the lazy dog.\"\n",
    "pattern = ''\n",
    "result = re.sub(pattern, \"a\", string, flags=re.IGNORECASE)\n",
    "\n",
    "print(result)\n"
   ]
  },
  {
   "cell_type": "markdown",
   "metadata": {},
   "source": [
    "# Exercise 6: Find all phone numbers in a string in the format \"XXX-XXX-XXXX\".\n"
   ]
  },
  {
   "cell_type": "code",
   "execution_count": null,
   "metadata": {},
   "outputs": [],
   "source": [
    "import re\n",
    "\n",
    "string = \"Please call me at 555-123-4567 or 555-987-6543.\"\n",
    "pattern = ''\n",
    "result = re.findall(pattern, string)\n",
    "\n",
    "print(result)\n"
   ]
  },
  {
   "cell_type": "markdown",
   "metadata": {},
   "source": [
    "# Exercise 7: Extract all URLs from a string.\n"
   ]
  },
  {
   "cell_type": "code",
   "execution_count": null,
   "metadata": {},
   "outputs": [],
   "source": [
    "import re\n",
    "\n",
    "string = \"Visit my website at https://www.example.com/ for more information.\"\n",
    "pattern = r\"\"\n",
    "result = re.findall(pattern, string)\n",
    "\n",
    "print(result)\n"
   ]
  },
  {
   "cell_type": "markdown",
   "metadata": {},
   "source": [
    "# Exercise 8: Extract all hashtags from a string.\n"
   ]
  },
  {
   "cell_type": "code",
   "execution_count": null,
   "metadata": {},
   "outputs": [],
   "source": [
    "import re\n",
    "\n",
    "string = \"Check out this #awesome #photo from my #vacation.\"\n",
    "pattern = r\"\"\n",
    "result = re.findall(pattern, string)\n",
    "\n",
    "print(result)\n"
   ]
  },
  {
   "cell_type": "markdown",
   "metadata": {},
   "source": [
    "# Exercise 9: Validate whether a string is a valid email address.\n"
   ]
  },
  {
   "cell_type": "code",
   "execution_count": null,
   "metadata": {},
   "outputs": [],
   "source": [
    "import re\n",
    "\n",
    "string = \"example@example.com\"\n",
    "pattern = r\"\"\n",
    "result = re.match(pattern, string)\n",
    "\n",
    "print(bool(result))\n",
    "\n"
   ]
  }
 ],
 "metadata": {
  "kernelspec": {
   "display_name": "Python 3.10.9 64-bit",
   "language": "python",
   "name": "python3"
  },
  "language_info": {
   "codemirror_mode": {
    "name": "ipython",
    "version": 3
   },
   "file_extension": ".py",
   "mimetype": "text/x-python",
   "name": "python",
   "nbconvert_exporter": "python",
   "pygments_lexer": "ipython3",
   "version": "3.10.9"
  },
  "orig_nbformat": 4,
  "vscode": {
   "interpreter": {
    "hash": "b0fa6594d8f4cbf19f97940f81e996739fb7646882a419484c72d19e05852a7e"
   }
  }
 },
 "nbformat": 4,
 "nbformat_minor": 2
}
