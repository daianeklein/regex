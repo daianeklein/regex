{
 "cells": [
  {
   "cell_type": "markdown",
   "metadata": {},
   "source": [
    "# Exercise 3 - List all cars not made by Honda\n",
    "\n",
    "Write a pattern to match all non-Honda cars (case insensitive)\n",
    "\n",
    "Use the Learn Regex Tool for this exercise (and code sample provided below). For syntax help, refer to the Regex cheat sheet.\n",
    "\n",
    "**Input:**\n",
    "\n",
    "Honda Civic\n",
    "\n",
    "Honda Accord\n",
    "\n",
    "Honda Insight\n",
    "\n",
    "Hyundai Accent\n",
    "\n",
    "Toyota Corolla\n",
    "\n",
    "Toyota Camry\n",
    "\n",
    "Toyota Prius\n",
    "\n",
    "Tesla Model 3\n",
    "\n",
    "Tesla Model S\n",
    "\n",
    "Tesla Model X\n",
    "\n",
    "\n",
    "**Output:**\n",
    "\n",
    "Hyundai Accent\n",
    "\n",
    "Toyota Corolla\n",
    "\n",
    "Toyota Camry\n",
    "\n",
    "Toyota Prius\n",
    "\n",
    "Tesla Model 3\n",
    "\n",
    "Tesla Model S\n",
    "\n",
    "Tesla Model X\n"
   ]
  },
  {
   "cell_type": "code",
   "execution_count": 22,
   "metadata": {},
   "outputs": [
    {
     "name": "stdout",
     "output_type": "stream",
     "text": [
      "Pattern: (?im)^(?!honda).+\n",
      "Text: Honda Civic\n",
      "Honda Accord\n",
      "Honda Insight\n",
      "Hyundai Accent\n",
      "Toyota Corolla\n",
      "Toyota Camry\n",
      "Toyota Prius\n",
      "Tesla Model 3\n",
      "Tesla Model S\n",
      "Tesla Model X\n",
      "\n",
      "Match:\n",
      "  Hyundai Accent at index: 39\n",
      "  Toyota Corolla at index: 54\n",
      "  Toyota Camry at index: 69\n",
      "  Toyota Prius at index: 82\n",
      "  Tesla Model 3 at index: 95\n",
      "  Tesla Model S at index: 109\n",
      "  Tesla Model X at index: 123\n"
     ]
    }
   ],
   "source": [
    "import re # python regex module\n",
    " \n",
    "pattern = r\"(?im)^(?!honda).+\" # sample pattern\n",
    " \n",
    "# Sample multi-line text\n",
    "text = \"\"\"Honda Civic\n",
    "Honda Accord\n",
    "Honda Insight\n",
    "Hyundai Accent\n",
    "Toyota Corolla\n",
    "Toyota Camry\n",
    "Toyota Prius\n",
    "Tesla Model 3\n",
    "Tesla Model S\n",
    "Tesla Model X\"\"\"\n",
    " \n",
    "print ('Pattern:',pattern)\n",
    "print ('Text:',text)\n",
    "print()\n",
    " \n",
    "match_iter = re.finditer(pattern, text)\n",
    " \n",
    "print ('Match:')\n",
    "for match in match_iter:\n",
    "    print(' ', match.group(0), 'at index:', match.start())\n"
   ]
  },
  {
   "cell_type": "code",
   "execution_count": null,
   "metadata": {},
   "outputs": [],
   "source": []
  }
 ],
 "metadata": {
  "kernelspec": {
   "display_name": "Python 3.10.9 64-bit",
   "language": "python",
   "name": "python3"
  },
  "language_info": {
   "codemirror_mode": {
    "name": "ipython",
    "version": 3
   },
   "file_extension": ".py",
   "mimetype": "text/x-python",
   "name": "python",
   "nbconvert_exporter": "python",
   "pygments_lexer": "ipython3",
   "version": "3.10.9"
  },
  "orig_nbformat": 4,
  "vscode": {
   "interpreter": {
    "hash": "b0fa6594d8f4cbf19f97940f81e996739fb7646882a419484c72d19e05852a7e"
   }
  }
 },
 "nbformat": 4,
 "nbformat_minor": 2
}
