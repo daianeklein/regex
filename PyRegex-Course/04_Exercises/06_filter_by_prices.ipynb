{
 "cells": [
  {
   "cell_type": "markdown",
   "metadata": {},
   "source": [
    "# Exercise - Filter by price\n",
    "\n",
    "***\n",
    "\n",
    "Write a pattern to match items whose price do not end with .99\n",
    "\n",
    "**Input**\n",
    "chair 4.98\n",
    "\n",
    "coffee 1.99\n",
    "\n",
    "fan 10.97\n",
    "\n",
    "car 11499.59\n",
    "\n",
    "banana 0.09\n",
    "\n",
    "***\n",
    "**Output**\n",
    "\n",
    "chair 4.98\n",
    "\n",
    "fan 10.97\n",
    "\n",
    "car 11499.59\n",
    "\n",
    "banana 0.0\n"
   ]
  },
  {
   "cell_type": "code",
   "execution_count": 1,
   "metadata": {},
   "outputs": [
    {
     "name": "stdout",
     "output_type": "stream",
     "text": [
      "Pattern: \n",
      "Text: chair 4.98\n",
      "coffee 1.99\n",
      "fan 10.97\n",
      "car 11499.59\n",
      "banana 0.09\n",
      "\n",
      "Match:\n",
      "   at index: 0\n",
      "   at index: 1\n",
      "   at index: 2\n",
      "   at index: 3\n",
      "   at index: 4\n",
      "   at index: 5\n",
      "   at index: 6\n",
      "   at index: 7\n",
      "   at index: 8\n",
      "   at index: 9\n",
      "   at index: 10\n",
      "   at index: 11\n",
      "   at index: 12\n",
      "   at index: 13\n",
      "   at index: 14\n",
      "   at index: 15\n",
      "   at index: 16\n",
      "   at index: 17\n",
      "   at index: 18\n",
      "   at index: 19\n",
      "   at index: 20\n",
      "   at index: 21\n",
      "   at index: 22\n",
      "   at index: 23\n",
      "   at index: 24\n",
      "   at index: 25\n",
      "   at index: 26\n",
      "   at index: 27\n",
      "   at index: 28\n",
      "   at index: 29\n",
      "   at index: 30\n",
      "   at index: 31\n",
      "   at index: 32\n",
      "   at index: 33\n",
      "   at index: 34\n",
      "   at index: 35\n",
      "   at index: 36\n",
      "   at index: 37\n",
      "   at index: 38\n",
      "   at index: 39\n",
      "   at index: 40\n",
      "   at index: 41\n",
      "   at index: 42\n",
      "   at index: 43\n",
      "   at index: 44\n",
      "   at index: 45\n",
      "   at index: 46\n",
      "   at index: 47\n",
      "   at index: 48\n",
      "   at index: 49\n",
      "   at index: 50\n",
      "   at index: 51\n",
      "   at index: 52\n",
      "   at index: 53\n",
      "   at index: 54\n",
      "   at index: 55\n",
      "   at index: 56\n",
      "   at index: 57\n"
     ]
    }
   ],
   "source": [
    "import re # python regex module\n",
    " \n",
    "pattern = r\"\"\n",
    " \n",
    "# Sample multi-line text\n",
    "text = \"\"\"chair 4.98\n",
    "coffee 1.99\n",
    "fan 10.97\n",
    "car 11499.59\n",
    "banana 0.09\"\"\"\n",
    " \n",
    "print ('Pattern:',pattern)\n",
    "print ('Text:',text)\n",
    "print()\n",
    " \n",
    "match_iter = re.finditer(pattern, text)\n",
    " \n",
    "print ('Match:')\n",
    "for match in match_iter:\n",
    "    print(' ', match.group(0), 'at index:', match.start())"
   ]
  },
  {
   "cell_type": "code",
   "execution_count": 13,
   "metadata": {},
   "outputs": [
    {
     "name": "stdout",
     "output_type": "stream",
     "text": [
      "['chair 4.98', 'fan 10.97', 'car 11499.59', 'banana 0.09']\n"
     ]
    }
   ],
   "source": [
    "# Sample multi-line text\n",
    "text = \"\"\"chair 4.98\n",
    "coffee 1.99\n",
    "fan 10.97\n",
    "car 11499.59\n",
    "banana 0.09\"\"\"\n",
    "\n",
    "pattern = r'(?m).+(?<!\\.99)$'\n",
    "print(re.findall(pattern, text))"
   ]
  }
 ],
 "metadata": {
  "kernelspec": {
   "display_name": "Python 3.10.9 64-bit",
   "language": "python",
   "name": "python3"
  },
  "language_info": {
   "codemirror_mode": {
    "name": "ipython",
    "version": 3
   },
   "file_extension": ".py",
   "mimetype": "text/x-python",
   "name": "python",
   "nbconvert_exporter": "python",
   "pygments_lexer": "ipython3",
   "version": "3.10.9"
  },
  "orig_nbformat": 4,
  "vscode": {
   "interpreter": {
    "hash": "b0fa6594d8f4cbf19f97940f81e996739fb7646882a419484c72d19e05852a7e"
   }
  }
 },
 "nbformat": 4,
 "nbformat_minor": 2
}
