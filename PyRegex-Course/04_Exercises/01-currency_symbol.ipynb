{
 "cells": [
  {
   "cell_type": "code",
   "execution_count": 1,
   "metadata": {},
   "outputs": [],
   "source": [
    "import re"
   ]
  },
  {
   "cell_type": "markdown",
   "metadata": {},
   "source": [
    "***\n",
    "\n",
    "In this exercise, you need to look for a currency symbol followed by digits and wrap them in ***.\n",
    "\n",
    "**input:**\n",
    "\n",
    "    movie ticket: $15, popcorn: $8\n",
    "\n",
    "    movie ticket: €15, popcorn: €8\n",
    "    \n",
    "    movie ticket: ₹15, popcorn: ₹8\n",
    "\n",
    "**output:**\n",
    "\n",
    "    movie ticket: ***$15***, popcorn: ***$8***\n",
    "    \n",
    "    movie ticket: ***€15***, popcorn: ***€8***\n",
    "    \n",
    "    movie ticket: ***₹15***, popcorn: ***₹8***\n",
    "\n",
    "\n",
    "HINT: Capture the currency symbol and digit in a named group. Use a replacement pattern to reformat the text.\n",
    "\n",
    "Use the Learn Regex Tool for this exercise or experiment with code snippet below. For syntax help, refer to the Regex cheat sheet.\n",
    "\n",
    "***"
   ]
  },
  {
   "cell_type": "code",
   "execution_count": 45,
   "metadata": {},
   "outputs": [
    {
     "name": "stdout",
     "output_type": "stream",
     "text": [
      "Pattern: (?P<digit>[$]\\d+)\n",
      "Text: \n",
      "movie ticket: $15, popcorn: $8\n",
      "movie ticket: €15, popcorn: €8\n",
      "movie ticket: ₹15, popcorn: ₹8\n",
      "\n",
      "['$15', '$8']\n",
      "\n",
      "movie ticket: ***$15***, popcorn: ***$8***\n",
      "movie ticket: €15, popcorn: €8\n",
      "movie ticket: ₹15, popcorn: ₹8\n"
     ]
    }
   ],
   "source": [
    "import re # python regex module\n",
    " \n",
    "find_pattern = r\"(?P<digit>[$]\\d+)\" # find pattern\n",
    "replacement_pattern = r\"***\\g<digit>***\" # replacement pattern\n",
    " \n",
    "# Sample multi-line text\n",
    "text = \"\"\"\n",
    "movie ticket: $15, popcorn: $8\n",
    "movie ticket: €15, popcorn: €8\n",
    "movie ticket: ₹15, popcorn: ₹8\"\"\"\n",
    " \n",
    "print ('Pattern:',find_pattern)\n",
    "print ('Text:',text)\n",
    "print()\n",
    " \n",
    "# match = re.search(find_pattern, text)\n",
    "# if match:\n",
    "#     print(match.groupdict())\n",
    "\n",
    "print(re.findall(find_pattern, text))\n",
    "new_text = re.sub(find_pattern, replacement_pattern, text)\n",
    "print (new_text)\n"
   ]
  },
  {
   "cell_type": "markdown",
   "metadata": {},
   "source": [
    "### Solution"
   ]
  },
  {
   "cell_type": "code",
   "execution_count": 44,
   "metadata": {},
   "outputs": [
    {
     "name": "stdout",
     "output_type": "stream",
     "text": [
      "Pattern: (?P<price>[$€₹]\\d+)\n",
      "Text: \n",
      "movie ticket: $15, popcorn: $8\n",
      "movie ticket: €15, popcorn: €8\n",
      "movie ticket: ₹15, popcorn: ₹8\n",
      "\n",
      "['$15', '$8', '€15', '€8', '₹15', '₹8']\n",
      "\n",
      "movie ticket: ***$15***, popcorn: ***$8***\n",
      "movie ticket: ***€15***, popcorn: ***€8***\n",
      "movie ticket: ***₹15***, popcorn: ***₹8***\n"
     ]
    }
   ],
   "source": [
    "import re # python regex module\n",
    " \n",
    "find_pattern = r\"(?P<price>[$€₹]\\d+)\" # find pattern\n",
    "replacement_pattern = r\"***\\g<price>***\" # replacement pattern\n",
    " \n",
    "# Sample multi-line text\n",
    "text = \"\"\"\n",
    "movie ticket: $15, popcorn: $8\n",
    "movie ticket: €15, popcorn: €8\n",
    "movie ticket: ₹15, popcorn: ₹8\"\"\"\n",
    " \n",
    "print ('Pattern:',find_pattern)\n",
    "print ('Text:',text)\n",
    "print()\n",
    " \n",
    "# match = re.search(find_pattern, text)\n",
    "# if match:\n",
    "#     print(match.groupdict())\n",
    "\n",
    "print(re.findall(find_pattern, text))\n",
    "new_text = re.sub(find_pattern, replacement_pattern, text)\n",
    "print (new_text)\n"
   ]
  }
 ],
 "metadata": {
  "kernelspec": {
   "display_name": "Python 3.10.9 64-bit",
   "language": "python",
   "name": "python3"
  },
  "language_info": {
   "codemirror_mode": {
    "name": "ipython",
    "version": 3
   },
   "file_extension": ".py",
   "mimetype": "text/x-python",
   "name": "python",
   "nbconvert_exporter": "python",
   "pygments_lexer": "ipython3",
   "version": "3.10.9"
  },
  "orig_nbformat": 4,
  "vscode": {
   "interpreter": {
    "hash": "b0fa6594d8f4cbf19f97940f81e996739fb7646882a419484c72d19e05852a7e"
   }
  }
 },
 "nbformat": 4,
 "nbformat_minor": 2
}
