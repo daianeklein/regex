{
 "cells": [
  {
   "cell_type": "markdown",
   "metadata": {},
   "source": [
    "# Exercise - Webserver Log Parser\n"
   ]
  },
  {
   "cell_type": "markdown",
   "metadata": {},
   "source": [
    "Using named groups, write a pattern to capture the values in a log entry.\n",
    "\n",
    "Each entry consists of the IP address of the requester, the HTTP method, resource, number of bytes, and request duration\n",
    "\n",
    "Use the following group names: ip, http, resource, bytes, duration\n",
    "\n",
    "I would recommend using the learn regex tool to visually write the pattern and then test with the code provided\n",
    "\n",
    "**Input**\n",
    "\n",
    "192.168.0.20 GET / index.html 32504 1.030\n",
    "\n",
    "192.168.0.55 GET / index.html 32504 0.500\n",
    "\n",
    "**Output (first match shown below):**\n",
    "\n",
    "ip:192.168.0.20\n",
    "\n",
    "http:GET\n",
    "\n",
    "resource:/index.html\n",
    "\n",
    "bytes:32504\n",
    "\n",
    "duration:1.030\n",
    "\n"
   ]
  },
  {
   "cell_type": "code",
   "execution_count": 1,
   "metadata": {},
   "outputs": [
    {
     "name": "stdout",
     "output_type": "stream",
     "text": [
      "Pattern: \n",
      "Text: 192.168.0.20 GET /index.html 32504 1.030\n",
      "192.168.0.55 GET /index.html 32504 0.500\n",
      "\n",
      "Match:\n",
      "  at index: 0\n",
      "  at index: 1\n",
      "  at index: 2\n",
      "  at index: 3\n",
      "  at index: 4\n",
      "  at index: 5\n",
      "  at index: 6\n",
      "  at index: 7\n",
      "  at index: 8\n",
      "  at index: 9\n",
      "  at index: 10\n",
      "  at index: 11\n",
      "  at index: 12\n",
      "  at index: 13\n",
      "  at index: 14\n",
      "  at index: 15\n",
      "  at index: 16\n",
      "  at index: 17\n",
      "  at index: 18\n",
      "  at index: 19\n",
      "  at index: 20\n",
      "  at index: 21\n",
      "  at index: 22\n",
      "  at index: 23\n",
      "  at index: 24\n",
      "  at index: 25\n",
      "  at index: 26\n",
      "  at index: 27\n",
      "  at index: 28\n",
      "  at index: 29\n",
      "  at index: 30\n",
      "  at index: 31\n",
      "  at index: 32\n",
      "  at index: 33\n",
      "  at index: 34\n",
      "  at index: 35\n",
      "  at index: 36\n",
      "  at index: 37\n",
      "  at index: 38\n",
      "  at index: 39\n",
      "  at index: 40\n",
      "  at index: 41\n",
      "  at index: 42\n",
      "  at index: 43\n",
      "  at index: 44\n",
      "  at index: 45\n",
      "  at index: 46\n",
      "  at index: 47\n",
      "  at index: 48\n",
      "  at index: 49\n",
      "  at index: 50\n",
      "  at index: 51\n",
      "  at index: 52\n",
      "  at index: 53\n",
      "  at index: 54\n",
      "  at index: 55\n",
      "  at index: 56\n",
      "  at index: 57\n",
      "  at index: 58\n",
      "  at index: 59\n",
      "  at index: 60\n",
      "  at index: 61\n",
      "  at index: 62\n",
      "  at index: 63\n",
      "  at index: 64\n",
      "  at index: 65\n",
      "  at index: 66\n",
      "  at index: 67\n",
      "  at index: 68\n",
      "  at index: 69\n",
      "  at index: 70\n",
      "  at index: 71\n",
      "  at index: 72\n",
      "  at index: 73\n",
      "  at index: 74\n",
      "  at index: 75\n",
      "  at index: 76\n",
      "  at index: 77\n",
      "  at index: 78\n",
      "  at index: 79\n",
      "  at index: 80\n",
      "  at index: 81\n"
     ]
    }
   ],
   "source": [
    "import re # python regex module\n",
    " \n",
    "pattern = r\"\"\n",
    " \n",
    "# Sample multi-line text\n",
    "text = \"\"\"192.168.0.20 GET /index.html 32504 1.030\n",
    "192.168.0.55 GET /index.html 32504 0.500\"\"\"\n",
    " \n",
    "print ('Pattern:',pattern)\n",
    "print ('Text:',text)\n",
    "print()\n",
    " \n",
    "match_iter = re.finditer(pattern, text)\n",
    " \n",
    "print ('Match:')\n",
    "for match in match_iter:\n",
    "    print('', match.group(0), 'at index:', match.start())\n",
    "    \n",
    "    for key,value in match.groupdict().items():\n",
    "        print('  ', key,':',value)"
   ]
  },
  {
   "cell_type": "code",
   "execution_count": 9,
   "metadata": {},
   "outputs": [
    {
     "name": "stdout",
     "output_type": "stream",
     "text": [
      "['168.0.20', '1.030', '168.0.55']\n"
     ]
    }
   ],
   "source": [
    "text = \"\"\"192.168.0.20 GET /index.html 32504 1.030\n",
    "192.168.0.55 GET /index.html 32504 0.500\"\"\"\n",
    "\n",
    "pattern = '(?P<ip>\\d{1,3}\\.\\d{1,3}.\\d{1,3})' #captures the iP\n",
    "print(re.findall(pattern, text))"
   ]
  },
  {
   "cell_type": "code",
   "execution_count": 11,
   "metadata": {},
   "outputs": [
    {
     "name": "stdout",
     "output_type": "stream",
     "text": [
      "['192', '168', '0', '20', 'GET', 'index', 'html', '32504', '1', '030', '192', '168', '0', '55', 'GET', 'index', 'html', '32504', '0', '500']\n"
     ]
    }
   ],
   "source": [
    "pattern = '(?P<http>\\w+)' #captures the HTTP request\n",
    "print(re.findall(pattern, text))"
   ]
  },
  {
   "cell_type": "code",
   "execution_count": 12,
   "metadata": {},
   "outputs": [
    {
     "name": "stdout",
     "output_type": "stream",
     "text": [
      "['/index.html', '/index.html']\n"
     ]
    }
   ],
   "source": [
    "#This pattern captures a / followed by any word character or \".\" character.\n",
    "# For example, this pattern will match the text /index.html\n",
    "\n",
    "pattern = '(?P<resource>/[.\\w.]+)'\n",
    "print(re.findall(pattern, text))"
   ]
  },
  {
   "cell_type": "code",
   "execution_count": 20,
   "metadata": {},
   "outputs": [
    {
     "name": "stdout",
     "output_type": "stream",
     "text": [
      "['0.500']\n"
     ]
    }
   ],
   "source": [
    "#duration and bytes values\n",
    "pattern = '(?P<duration>\\d+\\.\\d+)$'\n",
    "print(re.findall(pattern, text))"
   ]
  },
  {
   "cell_type": "markdown",
   "metadata": {},
   "source": [
    "## Solution"
   ]
  },
  {
   "cell_type": "code",
   "execution_count": 21,
   "metadata": {},
   "outputs": [
    {
     "name": "stdout",
     "output_type": "stream",
     "text": [
      "Pattern: (?m)^(?P<ip>\\d{1,3}\\.\\d{1,3}\\.\\d{1,3}\\.\\d{1,3})\\s+(?P<http>\\w+)\\s+(?P<resource>/[\\w.]+)\\s+(?P<bytes>\\d+)\\s+(?P<duration>\\d+\\.\\d+)$\n",
      "Text: 192.168.0.20 GET /index.html 32504 1.030\n",
      "192.168.0.55 GET /index.html 32504 0.500\n",
      "\n",
      "Match:\n",
      " 192.168.0.20 GET /index.html 32504 1.030 at index: 0\n",
      "   ip : 192.168.0.20\n",
      "   http : GET\n",
      "   resource : /index.html\n",
      "   bytes : 32504\n",
      "   duration : 1.030\n",
      " 192.168.0.55 GET /index.html 32504 0.500 at index: 41\n",
      "   ip : 192.168.0.55\n",
      "   http : GET\n",
      "   resource : /index.html\n",
      "   bytes : 32504\n",
      "   duration : 0.500\n"
     ]
    }
   ],
   "source": [
    "import re # python regex module\n",
    " \n",
    "pattern = r\"(?m)^(?P<ip>\\d{1,3}\\.\\d{1,3}\\.\\d{1,3}\\.\\d{1,3})\\s+(?P<http>\\w+)\\s+(?P<resource>/[\\w.]+)\\s+(?P<bytes>\\d+)\\s+(?P<duration>\\d+\\.\\d+)$\"\n",
    " \n",
    "# Sample multi-line text\n",
    "text = \"\"\"192.168.0.20 GET /index.html 32504 1.030\n",
    "192.168.0.55 GET /index.html 32504 0.500\"\"\"\n",
    " \n",
    "print ('Pattern:',pattern)\n",
    "print ('Text:',text)\n",
    "print()\n",
    " \n",
    "match_iter = re.finditer(pattern, text)\n",
    " \n",
    "print ('Match:')\n",
    "for match in match_iter:\n",
    "    print('', match.group(0), 'at index:', match.start())\n",
    "    \n",
    "    for key,value in match.groupdict().items():\n",
    "        print('  ', key,':',value)"
   ]
  },
  {
   "cell_type": "code",
   "execution_count": null,
   "metadata": {},
   "outputs": [],
   "source": []
  }
 ],
 "metadata": {
  "kernelspec": {
   "display_name": "Python 3.10.9 64-bit",
   "language": "python",
   "name": "python3"
  },
  "language_info": {
   "codemirror_mode": {
    "name": "ipython",
    "version": 3
   },
   "file_extension": ".py",
   "mimetype": "text/x-python",
   "name": "python",
   "nbconvert_exporter": "python",
   "pygments_lexer": "ipython3",
   "version": "3.10.9"
  },
  "orig_nbformat": 4,
  "vscode": {
   "interpreter": {
    "hash": "b0fa6594d8f4cbf19f97940f81e996739fb7646882a419484c72d19e05852a7e"
   }
  }
 },
 "nbformat": 4,
 "nbformat_minor": 2
}
