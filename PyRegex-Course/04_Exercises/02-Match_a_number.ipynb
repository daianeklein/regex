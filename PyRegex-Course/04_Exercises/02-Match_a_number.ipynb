{
 "cells": [
  {
   "cell_type": "markdown",
   "metadata": {},
   "source": [
    "# Exercise 02 - Match a number\n"
   ]
  },
  {
   "cell_type": "markdown",
   "metadata": {},
   "source": [
    "This exercise consists of three parts. Use the Learn Regex Tool for this exercise (or use sample code below).\n",
    "\n",
    "For syntax help, refer to the Regex cheat sheet. Solution is provided in the next lecture\n",
    "\n",
    "\n",
    "\n",
    "Step 1 - Write a pattern to match a word with one or more digits.\n",
    "\n",
    "In the below text, the pattern should match 1, 123, 12345. However, it should not match 123 in ABCD123\n",
    "\n",
    "Input:\n",
    "\n",
    "1\n",
    "123\n",
    "ABCD123\n",
    "12345\n",
    "\n",
    "\n",
    "Output:\n",
    "\n",
    "1\n",
    "123\n",
    "12345\n"
   ]
  },
  {
   "cell_type": "code",
   "execution_count": 6,
   "metadata": {},
   "outputs": [
    {
     "name": "stdout",
     "output_type": "stream",
     "text": [
      "Pattern: \\b\\d+\\b\n",
      "Text: 1 123 ABCD123 12345\n",
      "\n",
      "Match:\n",
      "  1 at index: 0\n",
      "  123 at index: 2\n",
      "  12345 at index: 14\n"
     ]
    }
   ],
   "source": [
    "import re # python regex module\n",
    " \n",
    "pattern = r\"\\b\\d+\\b\"\n",
    "text = \"1 123 ABCD123 12345\"\n",
    " \n",
    "print ('Pattern:',pattern)\n",
    "print ('Text:',text)\n",
    "print()\n",
    " \n",
    "match_iter = re.finditer(pattern, text)\n",
    " \n",
    "print ('Match:')\n",
    "for match in match_iter:\n",
    "    print(' ', match.group(0), 'at index:', match.start())\n"
   ]
  },
  {
   "cell_type": "markdown",
   "metadata": {},
   "source": [
    "# Exercise 02 - Extend the previous pattern to now match an optional decimal point and two digits\n"
   ]
  },
  {
   "cell_type": "markdown",
   "metadata": {},
   "source": [
    "For example, the pattern should match 1234.56 and 57890 but not match 1234A56\n",
    "\n",
    "Input:\n",
    "\n",
    "1234.56\n",
    "57890\n",
    "1234A56\n",
    "\n",
    "\n",
    "Output:\n",
    "\n",
    "1234.56\n",
    "57890"
   ]
  },
  {
   "cell_type": "code",
   "execution_count": 8,
   "metadata": {},
   "outputs": [
    {
     "name": "stdout",
     "output_type": "stream",
     "text": [
      "Pattern: \\b\\d+(\\.\\d{2})?\\b\n",
      "Text: 1234.56 57890 1234A56\n",
      "\n",
      "Match:\n",
      "  1234.56 at index: 0\n",
      "  57890 at index: 8\n"
     ]
    }
   ],
   "source": [
    "import re # python regex module\n",
    " \n",
    "\n",
    "pattern = r\"\\b\\d+(\\.\\d{2})?\\b\"\n",
    "text = \"1234.56 57890 1234A56\"\n",
    " \n",
    "print ('Pattern:',pattern)\n",
    "print ('Text:',text)\n",
    "print()\n",
    " \n",
    "match_iter = re.finditer(pattern, text)\n",
    " \n",
    "print ('Match:')\n",
    "for match in match_iter:\n",
    "    print(' ', match.group(0), 'at index:', match.start())"
   ]
  },
  {
   "cell_type": "markdown",
   "metadata": {},
   "source": [
    "# Exercise 3"
   ]
  },
  {
   "cell_type": "markdown",
   "metadata": {},
   "source": [
    "Step 3 - Extend the previous pattern to match an optional comma followed by three digits\n",
    "\n",
    "The optional comma and the 3-digit group can appear as many times as possible.\n",
    "\n",
    "The pattern should now match:\n",
    "\n",
    "Input:\n",
    "\n",
    "123\n",
    "12345.78\n",
    "1,234.78\n",
    "1,234,567.89\n",
    "0.59\n",
    "1234A56\n",
    "ABCD123\n",
    "\n",
    "\n",
    "Output:\n",
    "\n",
    "123\n",
    "12345.78\n",
    "1,234.78\n",
    "1,234,567.89\n",
    "0.59"
   ]
  },
  {
   "cell_type": "code",
   "execution_count": 9,
   "metadata": {},
   "outputs": [
    {
     "name": "stdout",
     "output_type": "stream",
     "text": [
      "Pattern: \\b\\d+(,\\d{3})*(\\.\\d{2})?\\b\n",
      "Text: 123 12345.78 1,234.78 1,234,567.89 0.59 1234A56 ABCD123\n",
      "\n",
      "Match:\n",
      "  123 at index: 0\n",
      "  12345.78 at index: 4\n",
      "  1,234.78 at index: 13\n",
      "  1,234,567.89 at index: 22\n",
      "  0.59 at index: 35\n"
     ]
    }
   ],
   "source": [
    "import re # python regex module\n",
    " \n",
    "pattern = r\"\\b\\d+(,\\d{3})*(\\.\\d{2})?\\b\"\n",
    "text = \"123 12345.78 1,234.78 1,234,567.89 0.59 1234A56 ABCD123\"\n",
    " \n",
    "print ('Pattern:',pattern)\n",
    "print ('Text:',text)\n",
    "print()\n",
    " \n",
    "match_iter = re.finditer(pattern, text)\n",
    " \n",
    "print ('Match:')\n",
    "for match in match_iter:\n",
    "    print(' ', match.group(0), 'at index:', match.start())"
   ]
  }
 ],
 "metadata": {
  "kernelspec": {
   "display_name": "Python 3.10.9 64-bit",
   "language": "python",
   "name": "python3"
  },
  "language_info": {
   "codemirror_mode": {
    "name": "ipython",
    "version": 3
   },
   "file_extension": ".py",
   "mimetype": "text/x-python",
   "name": "python",
   "nbconvert_exporter": "python",
   "pygments_lexer": "ipython3",
   "version": "3.10.9"
  },
  "orig_nbformat": 4,
  "vscode": {
   "interpreter": {
    "hash": "b0fa6594d8f4cbf19f97940f81e996739fb7646882a419484c72d19e05852a7e"
   }
  }
 },
 "nbformat": 4,
 "nbformat_minor": 2
}
