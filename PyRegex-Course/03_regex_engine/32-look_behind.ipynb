{
 "cells": [
  {
   "cell_type": "code",
   "execution_count": 1,
   "metadata": {},
   "outputs": [],
   "source": [
    "import re"
   ]
  },
  {
   "cell_type": "code",
   "execution_count": 2,
   "metadata": {},
   "outputs": [
    {
     "name": "stdout",
     "output_type": "stream",
     "text": [
      "AAAA123 BBBBB12 CCCC5679 TTTTTTTT99999 YHB18\n",
      "['123', '12', '5679', '99999', '18']\n"
     ]
    }
   ],
   "source": [
    "pattern = '\\d+'\n",
    "text = 'AAAA123 BBBBB12 CCCC5679 TTTTTTTT99999 YHB18'\n",
    "\n",
    "print(text)\n",
    "print(re.findall(pattern, text))"
   ]
  },
  {
   "cell_type": "code",
   "execution_count": 3,
   "metadata": {},
   "outputs": [
    {
     "name": "stdout",
     "output_type": "stream",
     "text": [
      "AAAA123 BBBBB12 CCCC5679 TTTTTTTT99999 YHB18\n",
      "['AAAA123', 'BBBB12', 'CCCC5679', 'TTTT99999']\n"
     ]
    }
   ],
   "source": [
    "pattern = '[A-Z]{4}\\d+'\n",
    "text = 'AAAA123 BBBBB12 CCCC5679 TTTTTTTT99999 YHB18'\n",
    "\n",
    "print(text)\n",
    "print(re.findall(pattern, text))"
   ]
  },
  {
   "cell_type": "code",
   "execution_count": 20,
   "metadata": {},
   "outputs": [
    {
     "name": "stdout",
     "output_type": "stream",
     "text": [
      "AAAA123 BBBBB12 CCCC5679 TTTTTTTT99999 YHB18 DDDD42\n",
      "['AAAA123', 'CCCC5679', 'DDDD42']\n"
     ]
    }
   ],
   "source": [
    "pattern = r'\\b[A-Z]{4}\\d+\\b'\n",
    "text = 'AAAA123 BBBBB12 CCCC5679 TTTTTTTT99999 YHB18 DDDD42'\n",
    "\n",
    "print(text)\n",
    "print(re.findall(pattern, text))"
   ]
  },
  {
   "cell_type": "code",
   "execution_count": 21,
   "metadata": {},
   "outputs": [
    {
     "name": "stdout",
     "output_type": "stream",
     "text": [
      "AAAA123 BBBBB12 CCCC5679 TTTTTTTT99999 YHB18 DDDD42\n",
      "['123', '5679', '42']\n"
     ]
    }
   ],
   "source": [
    "pattern = r'(?<=\\b[A-Z]{4})\\d+\\b'\n",
    "text = 'AAAA123 BBBBB12 CCCC5679 TTTTTTTT99999 YHB18 DDDD42'\n",
    "\n",
    "print(text)\n",
    "print(re.findall(pattern, text))"
   ]
  },
  {
   "cell_type": "code",
   "execution_count": 23,
   "metadata": {},
   "outputs": [
    {
     "name": "stdout",
     "output_type": "stream",
     "text": [
      "['chair 4.98 coffee 1.99 fan 10.97']\n"
     ]
    }
   ],
   "source": [
    "# negative lookbehind\n",
    "pattern = '(?m).+'\n",
    "text = 'chair 4.98 coffee 1.99 fan 10.97'\n",
    "\n",
    "print(re.findall(pattern, text))"
   ]
  },
  {
   "cell_type": "code",
   "execution_count": 24,
   "metadata": {},
   "outputs": [
    {
     "name": "stdout",
     "output_type": "stream",
     "text": [
      "['.99']\n"
     ]
    }
   ],
   "source": [
    "# negative lookbehind\n",
    "pattern = '(?m).+(\\.99)'\n",
    "text = 'chair 4.98 coffee 1.99 fan 10.97'\n",
    "\n",
    "print(re.findall(pattern, text))"
   ]
  },
  {
   "cell_type": "code",
   "execution_count": 25,
   "metadata": {},
   "outputs": [
    {
     "name": "stdout",
     "output_type": "stream",
     "text": [
      "['chair 4.98 coffee 1.99 fan 10.97']\n"
     ]
    }
   ],
   "source": [
    "# negative lookbehind\n",
    "pattern = '(?m).+(?<!\\.99)'\n",
    "text = 'chair 4.98 coffee 1.99 fan 10.97'\n",
    "\n",
    "print(re.findall(pattern, text)) #also matches substrings"
   ]
  },
  {
   "cell_type": "code",
   "execution_count": 31,
   "metadata": {},
   "outputs": [
    {
     "name": "stdout",
     "output_type": "stream",
     "text": [
      "['chair 4.98, coffee 1.99, fan 10.97']\n"
     ]
    }
   ],
   "source": [
    "# negative lookbehind\n",
    "pattern = '(?m).+(?<!\\.99)$'\n",
    "text = 'chair 4.98, coffee 1.99, fan 10.97'\n",
    "\n",
    "print(re.findall(pattern, text)) #also matches substrings"
   ]
  },
  {
   "cell_type": "code",
   "execution_count": null,
   "metadata": {},
   "outputs": [],
   "source": []
  }
 ],
 "metadata": {
  "kernelspec": {
   "display_name": "Python 3.10.9 64-bit",
   "language": "python",
   "name": "python3"
  },
  "language_info": {
   "codemirror_mode": {
    "name": "ipython",
    "version": 3
   },
   "file_extension": ".py",
   "mimetype": "text/x-python",
   "name": "python",
   "nbconvert_exporter": "python",
   "pygments_lexer": "ipython3",
   "version": "3.10.9"
  },
  "orig_nbformat": 4,
  "vscode": {
   "interpreter": {
    "hash": "b0fa6594d8f4cbf19f97940f81e996739fb7646882a419484c72d19e05852a7e"
   }
  }
 },
 "nbformat": 4,
 "nbformat_minor": 2
}
