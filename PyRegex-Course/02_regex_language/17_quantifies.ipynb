{
 "cells": [
  {
   "cell_type": "markdown",
   "metadata": {},
   "source": [
    "# Quantifiers"
   ]
  },
  {
   "cell_type": "code",
   "execution_count": 1,
   "metadata": {},
   "outputs": [],
   "source": [
    "import re"
   ]
  },
  {
   "cell_type": "code",
   "execution_count": 11,
   "metadata": {},
   "outputs": [
    {
     "name": "stdout",
     "output_type": "stream",
     "text": [
      "['a', '1', '2', 'b', 'c', 'd', '3', '4', '5']\n",
      "['a1', 'd3']\n",
      "['a1', 'b', 'c', 'd345']\n",
      "['a1', 'c', 'd345']\n",
      "['a1', 'd345']\n",
      "['a1', 'c']\n"
     ]
    }
   ],
   "source": [
    "\n",
    "pattern = '[a-z0-9]'\n",
    "text = 'a1 2b c d345'\n",
    "\n",
    "print(re.findall(pattern, text))\n",
    "\n",
    "pattern = '[a-z][0-9]'\n",
    "print(re.findall(pattern, text))\n",
    "\n",
    "pattern = '[a-z][0-9]*'\n",
    "print(re.findall(pattern, text))\n",
    "\n",
    "pattern = r'\\b[a-z][0-9]*\\b'\n",
    "print(re.findall(pattern, text))\n",
    "\n",
    "pattern = r'\\b[a-z][0-9]+\\b'\n",
    "print(re.findall(pattern, text))\n",
    "\n",
    "pattern = r'\\b[a-z][0-9]?\\b'\n",
    "print(re.findall(pattern, text))"
   ]
  },
  {
   "cell_type": "code",
   "execution_count": 15,
   "metadata": {},
   "outputs": [
    {
     "name": "stdout",
     "output_type": "stream",
     "text": [
      "['ef981']\n",
      "['ef981']\n"
     ]
    }
   ],
   "source": [
    "# two letters followed by one or more digits\n",
    "pattern = r'\\b[a-z][a-z][0-9]+\\b'\n",
    "text = 'a1 2b c d345 ef981'\n",
    "\n",
    "print(re.findall(pattern, text))\n",
    "\n",
    "## same as above but using quantifiers\n",
    "pattern = r'\\b[a-z]{2}[0-9]+\\b'\n",
    "text = 'a1 2b c d345 ef981'\n",
    "\n",
    "print(re.findall(pattern, text))"
   ]
  },
  {
   "cell_type": "code",
   "execution_count": 18,
   "metadata": {},
   "outputs": [
    {
     "name": "stdout",
     "output_type": "stream",
     "text": [
      "['ef981']\n"
     ]
    }
   ],
   "source": [
    "## two letters but not more than 4 letters followed by one or more digits\n",
    "pattern = r'\\b[a-z]{2,4}[0-9]+\\b'\n",
    "text = 'a1 2b c d345 ef981 gyufjs123'\n",
    "\n",
    "print(re.findall(pattern, text))"
   ]
  }
 ],
 "metadata": {
  "kernelspec": {
   "display_name": "Python 3.10.9 64-bit",
   "language": "python",
   "name": "python3"
  },
  "language_info": {
   "codemirror_mode": {
    "name": "ipython",
    "version": 3
   },
   "file_extension": ".py",
   "mimetype": "text/x-python",
   "name": "python",
   "nbconvert_exporter": "python",
   "pygments_lexer": "ipython3",
   "version": "3.10.9"
  },
  "orig_nbformat": 4,
  "vscode": {
   "interpreter": {
    "hash": "b0fa6594d8f4cbf19f97940f81e996739fb7646882a419484c72d19e05852a7e"
   }
  }
 },
 "nbformat": 4,
 "nbformat_minor": 2
}
