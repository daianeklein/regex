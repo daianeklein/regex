{
 "cells": [
  {
   "cell_type": "markdown",
   "metadata": {},
   "source": [
    "# Single Character Patterns"
   ]
  },
  {
   "cell_type": "code",
   "execution_count": 1,
   "metadata": {},
   "outputs": [],
   "source": [
    "import re"
   ]
  },
  {
   "cell_type": "code",
   "execution_count": 12,
   "metadata": {},
   "outputs": [
    {
     "name": "stdout",
     "output_type": "stream",
     "text": [
      "None\n"
     ]
    }
   ],
   "source": [
    "# cap word\n",
    "pattern = 'A'\n",
    "text = 'this is a great text!'\n",
    "\n",
    "print(re.search(pattern, text))"
   ]
  },
  {
   "cell_type": "code",
   "execution_count": 14,
   "metadata": {},
   "outputs": [
    {
     "name": "stdout",
     "output_type": "stream",
     "text": [
      "a\n"
     ]
    }
   ],
   "source": [
    "#flags / inline options\n",
    "pattern = 'A'\n",
    "text = 'this is a great text'\n",
    "print(re.search(pattern, text, flags=re.IGNORECASE).group(0))"
   ]
  },
  {
   "cell_type": "code",
   "execution_count": 15,
   "metadata": {},
   "outputs": [
    {
     "name": "stdout",
     "output_type": "stream",
     "text": [
      "a\n"
     ]
    }
   ],
   "source": [
    "#flags / inline options\n",
    "pattern = '(?i)A'\n",
    "text = 'this is a great text'\n",
    "print(re.search(pattern, text).group(0))"
   ]
  },
  {
   "cell_type": "markdown",
   "metadata": {},
   "source": [
    "## Pipe - ||"
   ]
  },
  {
   "cell_type": "code",
   "execution_count": 17,
   "metadata": {},
   "outputs": [
    {
     "name": "stdout",
     "output_type": "stream",
     "text": [
      "big\n"
     ]
    }
   ],
   "source": [
    "pattern = 'big'\n",
    "text = 'this is the biggest test'\n",
    "\n",
    "print(re.search(pattern, text).group(0))"
   ]
  },
  {
   "cell_type": "code",
   "execution_count": 20,
   "metadata": {},
   "outputs": [
    {
     "name": "stdout",
     "output_type": "stream",
     "text": [
      "['i', 'i', 'b', 'i', 'g', 'g']\n"
     ]
    }
   ],
   "source": [
    "pattern = 'b|i|g'\n",
    "text = 'this is the biggest test'\n",
    "\n",
    "print(re.findall(pattern, text))"
   ]
  },
  {
   "cell_type": "code",
   "execution_count": 21,
   "metadata": {},
   "outputs": [
    {
     "name": "stdout",
     "output_type": "stream",
     "text": [
      "['i', 'i', 'b', 'i', 'g', 'g']\n"
     ]
    }
   ],
   "source": [
    "pattern = '[big]' #set notation\n",
    "text = 'this is the biggest test'\n",
    "\n",
    "print(re.findall(pattern, text))"
   ]
  },
  {
   "cell_type": "code",
   "execution_count": 22,
   "metadata": {},
   "outputs": [
    {
     "name": "stdout",
     "output_type": "stream",
     "text": [
      "['t', 'h', 's', ' ', 's', ' ', 't', 'h', ' ', 'b', 'g', 'g', 's', 't', ' ', 't', 's', 't']\n"
     ]
    }
   ],
   "source": [
    "pattern = '[^aeiou]'  #negando vowels\n",
    "text = 'this is the biggest test'\n",
    "\n",
    "print(re.findall(pattern, text))"
   ]
  },
  {
   "cell_type": "code",
   "execution_count": 23,
   "metadata": {},
   "outputs": [
    {
     "name": "stdout",
     "output_type": "stream",
     "text": [
      "['i', 'i', 'e', 'i', 'e', 'e']\n"
     ]
    }
   ],
   "source": [
    "pattern = '[aeiou]' # getting vowels\n",
    "text = 'this is the biggest test'\n",
    "\n",
    "print(re.findall(pattern, text))"
   ]
  },
  {
   "cell_type": "code",
   "execution_count": 25,
   "metadata": {},
   "outputs": [
    {
     "name": "stdout",
     "output_type": "stream",
     "text": [
      "th-s -s th- b-gg-st t-st\n"
     ]
    }
   ],
   "source": [
    "# replacing all the vowels with -\n",
    "patterns = '[aeiou]'\n",
    "text = 'this is the biggest test'\n",
    "\n",
    "print(re.sub(pattern, '-', text))"
   ]
  },
  {
   "cell_type": "code",
   "execution_count": 29,
   "metadata": {},
   "outputs": [
    {
     "name": "stdout",
     "output_type": "stream",
     "text": [
      "th-s -s - b-g t-st ---\n"
     ]
    }
   ],
   "source": [
    "# replacing all the vowels with -\n",
    "patterns = '[a^eiou]'\n",
    "text = 'this is a big test aaa'\n",
    "\n",
    "print(re.sub(pattern, '-', text))"
   ]
  },
  {
   "cell_type": "code",
   "execution_count": 32,
   "metadata": {},
   "outputs": [
    {
     "name": "stdout",
     "output_type": "stream",
     "text": [
      "this is # #ig test. The test is #one\n"
     ]
    }
   ],
   "source": [
    "# range of characters\n",
    "pattern = '[a-d]' #same a|b|c|d\n",
    "text = 'this is a big test. The test is done'\n",
    "print(re.sub(pattern, '#', text))"
   ]
  },
  {
   "cell_type": "code",
   "execution_count": 34,
   "metadata": {},
   "outputs": [
    {
     "name": "stdout",
     "output_type": "stream",
     "text": [
      "this is $ $ig test. T$$$y is $ g$$$ $$y. h$$$! $$$ $$6 789 0\n"
     ]
    }
   ],
   "source": [
    "pattern = '[a-dm-o1-5]'\n",
    "text = 'this is a big test. Today is a good day. hmmm! 123 456 789 0'\n",
    "print(re.sub(pattern, '$', text))"
   ]
  },
  {
   "cell_type": "code",
   "execution_count": 35,
   "metadata": {},
   "outputs": [
    {
     "name": "stdout",
     "output_type": "stream",
     "text": [
      "$$$$$$$$a$b$$$$$$$$$$oda$$$$$a$$ood$da$$$$mmm$$123$45$$$$$$$\n"
     ]
    }
   ],
   "source": [
    "pattern = '[^a-dm-o1-5]' #negative\n",
    "text = 'this is a big test. Today is a good day. hmmm! 123 456 789 0'\n",
    "print(re.sub(pattern, '$', text))"
   ]
  },
  {
   "cell_type": "markdown",
   "metadata": {},
   "source": [
    "## Dot pattern"
   ]
  },
  {
   "cell_type": "code",
   "execution_count": 37,
   "metadata": {},
   "outputs": [
    {
     "data": {
      "text/plain": [
       "['H', 'e', 'l', 'l', 'o', '!', ' ', '?', ' ', '1', '2', '3']"
      ]
     },
     "execution_count": 37,
     "metadata": {},
     "output_type": "execute_result"
    }
   ],
   "source": [
    "pattern = '.'\n",
    "text = 'Hello! ? 123'\n",
    "re.findall(pattern, text)"
   ]
  },
  {
   "cell_type": "code",
   "execution_count": 39,
   "metadata": {},
   "outputs": [
    {
     "data": {
      "text/plain": [
       "['H',\n",
       " 'e',\n",
       " 'l',\n",
       " 'l',\n",
       " 'o',\n",
       " '!',\n",
       " ' ',\n",
       " '?',\n",
       " ' ',\n",
       " '1',\n",
       " '2',\n",
       " '3',\n",
       " ' ',\n",
       " ' ',\n",
       " ' ',\n",
       " ' ',\n",
       " ' ',\n",
       " 'h',\n",
       " 'i']"
      ]
     },
     "execution_count": 39,
     "metadata": {},
     "output_type": "execute_result"
    }
   ],
   "source": [
    "pattern = '.'\n",
    "text = 'Hello! ? 123 \\\n",
    "    hi'\n",
    "re.findall(pattern, text)"
   ]
  },
  {
   "cell_type": "code",
   "execution_count": 43,
   "metadata": {},
   "outputs": [
    {
     "data": {
      "text/plain": [
       "['.', '.']"
      ]
     },
     "execution_count": 43,
     "metadata": {},
     "output_type": "execute_result"
    }
   ],
   "source": [
    "# matching the dot\n",
    "pattern = '\\.'\n",
    "text = 'Hello! ? 123 . Hi!.'\n",
    "re.findall(pattern, text)"
   ]
  },
  {
   "cell_type": "code",
   "execution_count": 44,
   "metadata": {},
   "outputs": [
    {
     "data": {
      "text/plain": [
       "['.', '.']"
      ]
     },
     "execution_count": 44,
     "metadata": {},
     "output_type": "execute_result"
    }
   ],
   "source": [
    "# matching the dot - other option\n",
    "pattern = '[.]'\n",
    "text = 'Hello! ? 123 . Hi!.'\n",
    "re.findall(pattern, text)"
   ]
  }
 ],
 "metadata": {
  "kernelspec": {
   "display_name": "Python 3.10.9 64-bit",
   "language": "python",
   "name": "python3"
  },
  "language_info": {
   "codemirror_mode": {
    "name": "ipython",
    "version": 3
   },
   "file_extension": ".py",
   "mimetype": "text/x-python",
   "name": "python",
   "nbconvert_exporter": "python",
   "pygments_lexer": "ipython3",
   "version": "3.10.9"
  },
  "orig_nbformat": 4,
  "vscode": {
   "interpreter": {
    "hash": "b0fa6594d8f4cbf19f97940f81e996739fb7646882a419484c72d19e05852a7e"
   }
  }
 },
 "nbformat": 4,
 "nbformat_minor": 2
}
