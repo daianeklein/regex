{
 "cells": [
  {
   "cell_type": "markdown",
   "id": "63b69981",
   "metadata": {},
   "source": [
    "# INTRODUCTION TO REGULAR EXPRESSIONS"
   ]
  },
  {
   "cell_type": "markdown",
   "id": "c084555b",
   "metadata": {},
   "source": [
    "## Libs"
   ]
  },
  {
   "cell_type": "code",
   "execution_count": 99,
   "id": "68fe84fe",
   "metadata": {
    "ExecuteTime": {
     "end_time": "2021-12-16T23:17:53.978395Z",
     "start_time": "2021-12-16T23:17:53.974564Z"
    }
   },
   "outputs": [],
   "source": [
    "import re\n",
    "import datetime"
   ]
  },
  {
   "cell_type": "code",
   "execution_count": 27,
   "id": "ee3bbe06",
   "metadata": {
    "ExecuteTime": {
     "end_time": "2021-12-16T22:46:02.731656Z",
     "start_time": "2021-12-16T22:46:02.725382Z"
    }
   },
   "outputs": [],
   "source": [
    "#tab\n",
    "#shift tab\n",
    "#shift + double tab"
   ]
  },
  {
   "cell_type": "markdown",
   "id": "aa0174b7",
   "metadata": {},
   "source": [
    "## Raw String and Regular String"
   ]
  },
  {
   "cell_type": "code",
   "execution_count": 28,
   "id": "75d080f1",
   "metadata": {
    "ExecuteTime": {
     "end_time": "2021-12-16T22:46:02.746151Z",
     "start_time": "2021-12-16T22:46:02.736587Z"
    }
   },
   "outputs": [
    {
     "name": "stdout",
     "output_type": "stream",
     "text": [
      "a\tb\n"
     ]
    }
   ],
   "source": [
    "s = 'a\\tb' # a-tab-b\n",
    "print(s)"
   ]
  },
  {
   "cell_type": "code",
   "execution_count": 29,
   "id": "699c20f8",
   "metadata": {
    "ExecuteTime": {
     "end_time": "2021-12-16T22:46:02.756428Z",
     "start_time": "2021-12-16T22:46:02.749518Z"
    }
   },
   "outputs": [
    {
     "name": "stdout",
     "output_type": "stream",
     "text": [
      "a\\tb\n"
     ]
    }
   ],
   "source": [
    "raw_s = r'a\\tb' #use raw string when defining regex patterns in your code\n",
    "print(raw_s)"
   ]
  },
  {
   "cell_type": "markdown",
   "id": "f8762f8e",
   "metadata": {},
   "source": [
    "## re.match - Find the first match"
   ]
  },
  {
   "cell_type": "code",
   "execution_count": 30,
   "id": "d13bfee0",
   "metadata": {
    "ExecuteTime": {
     "end_time": "2021-12-16T22:46:02.765701Z",
     "start_time": "2021-12-16T22:46:02.760050Z"
    }
   },
   "outputs": [],
   "source": [
    "pattern = r'\\d+'\n",
    "text = '42 is my lucky number'"
   ]
  },
  {
   "cell_type": "code",
   "execution_count": 31,
   "id": "cc8ad014",
   "metadata": {
    "ExecuteTime": {
     "end_time": "2021-12-16T22:46:02.785345Z",
     "start_time": "2021-12-16T22:46:02.774985Z"
    }
   },
   "outputs": [],
   "source": [
    "match = re.match(pattern, text)"
   ]
  },
  {
   "cell_type": "code",
   "execution_count": 32,
   "id": "d493ca8a",
   "metadata": {
    "ExecuteTime": {
     "end_time": "2021-12-16T22:46:02.802827Z",
     "start_time": "2021-12-16T22:46:02.796772Z"
    }
   },
   "outputs": [
    {
     "name": "stdout",
     "output_type": "stream",
     "text": [
      "Match success\n"
     ]
    }
   ],
   "source": [
    "if match:\n",
    "    print('Match success')\n",
    "else:\n",
    "    print('no match')"
   ]
  },
  {
   "cell_type": "code",
   "execution_count": 33,
   "id": "1b8cc37c",
   "metadata": {
    "ExecuteTime": {
     "end_time": "2021-12-16T22:46:02.814782Z",
     "start_time": "2021-12-16T22:46:02.808351Z"
    }
   },
   "outputs": [
    {
     "data": {
      "text/plain": [
       "'42 is my lucky number'"
      ]
     },
     "execution_count": 33,
     "metadata": {},
     "output_type": "execute_result"
    }
   ],
   "source": [
    "text"
   ]
  },
  {
   "cell_type": "code",
   "execution_count": 34,
   "id": "d5969d54",
   "metadata": {
    "ExecuteTime": {
     "end_time": "2021-12-16T22:46:02.826820Z",
     "start_time": "2021-12-16T22:46:02.817324Z"
    }
   },
   "outputs": [
    {
     "data": {
      "text/plain": [
       "'\\\\d+'"
      ]
     },
     "execution_count": 34,
     "metadata": {},
     "output_type": "execute_result"
    }
   ],
   "source": [
    "pattern"
   ]
  },
  {
   "cell_type": "code",
   "execution_count": 35,
   "id": "be22a979",
   "metadata": {
    "ExecuteTime": {
     "end_time": "2021-12-16T22:46:02.837244Z",
     "start_time": "2021-12-16T22:46:02.830202Z"
    }
   },
   "outputs": [
    {
     "data": {
      "text/plain": [
       "<re.Match object; span=(0, 2), match='42'>"
      ]
     },
     "execution_count": 35,
     "metadata": {},
     "output_type": "execute_result"
    }
   ],
   "source": [
    "re.match(pattern, text)"
   ]
  },
  {
   "cell_type": "code",
   "execution_count": 36,
   "id": "01734728",
   "metadata": {
    "ExecuteTime": {
     "end_time": "2021-12-16T22:46:02.852359Z",
     "start_time": "2021-12-16T22:46:02.846822Z"
    }
   },
   "outputs": [
    {
     "name": "stdout",
     "output_type": "stream",
     "text": [
      "no match\n"
     ]
    }
   ],
   "source": [
    "pattern = r'\\d+'\n",
    "text = 'is my lucky number'\n",
    "match = re.match(pattern, text)\n",
    "\n",
    "if match:\n",
    "    print('Match success')\n",
    "else:\n",
    "    print('no match')"
   ]
  },
  {
   "cell_type": "code",
   "execution_count": null,
   "id": "3e7b3fa8",
   "metadata": {},
   "outputs": [],
   "source": []
  },
  {
   "cell_type": "markdown",
   "id": "09c70d9b",
   "metadata": {},
   "source": [
    "***"
   ]
  },
  {
   "cell_type": "code",
   "execution_count": 37,
   "id": "7a94558e",
   "metadata": {
    "ExecuteTime": {
     "end_time": "2021-12-16T22:46:02.860095Z",
     "start_time": "2021-12-16T22:46:02.856299Z"
    }
   },
   "outputs": [],
   "source": [
    "pattern = r'\\d+'\n",
    "text = 'is my lucky number'"
   ]
  },
  {
   "cell_type": "code",
   "execution_count": 38,
   "id": "f987c654",
   "metadata": {
    "ExecuteTime": {
     "end_time": "2021-12-16T22:46:02.868127Z",
     "start_time": "2021-12-16T22:46:02.863936Z"
    }
   },
   "outputs": [],
   "source": [
    "match = re.match(pattern, text)"
   ]
  },
  {
   "cell_type": "code",
   "execution_count": 39,
   "id": "fd7e9249",
   "metadata": {
    "ExecuteTime": {
     "end_time": "2021-12-16T22:46:02.876836Z",
     "start_time": "2021-12-16T22:46:02.870985Z"
    }
   },
   "outputs": [
    {
     "name": "stdout",
     "output_type": "stream",
     "text": [
      "no match\n"
     ]
    }
   ],
   "source": [
    "if match:\n",
    "    print('Match success')\n",
    "else:\n",
    "    print('no match')"
   ]
  },
  {
   "cell_type": "markdown",
   "id": "ab45f213",
   "metadata": {},
   "source": [
    "***"
   ]
  },
  {
   "cell_type": "code",
   "execution_count": 40,
   "id": "8ddc5dc4",
   "metadata": {
    "ExecuteTime": {
     "end_time": "2021-12-16T22:46:02.883683Z",
     "start_time": "2021-12-16T22:46:02.880083Z"
    }
   },
   "outputs": [],
   "source": [
    "pattern = r'\\d+'\n",
    "text = '42 is my lucky number'"
   ]
  },
  {
   "cell_type": "code",
   "execution_count": 41,
   "id": "c0cafff8",
   "metadata": {
    "ExecuteTime": {
     "end_time": "2021-12-16T22:46:02.893007Z",
     "start_time": "2021-12-16T22:46:02.886817Z"
    }
   },
   "outputs": [],
   "source": [
    "match = re.match(pattern, text)"
   ]
  },
  {
   "cell_type": "code",
   "execution_count": 42,
   "id": "be80115a",
   "metadata": {
    "ExecuteTime": {
     "end_time": "2021-12-16T22:46:02.902395Z",
     "start_time": "2021-12-16T22:46:02.896897Z"
    }
   },
   "outputs": [
    {
     "name": "stdout",
     "output_type": "stream",
     "text": [
      "42 at index: 0\n"
     ]
    }
   ],
   "source": [
    "if match:\n",
    "    print(match.group(0), 'at index:', match.start())\n",
    "else:\n",
    "    print('no match')"
   ]
  },
  {
   "cell_type": "code",
   "execution_count": 43,
   "id": "040c3468",
   "metadata": {
    "ExecuteTime": {
     "end_time": "2021-12-16T22:46:02.911322Z",
     "start_time": "2021-12-16T22:46:02.906034Z"
    }
   },
   "outputs": [
    {
     "name": "stdout",
     "output_type": "stream",
     "text": [
      "42\n"
     ]
    }
   ],
   "source": [
    "if match:\n",
    "    print(match.group(0))\n",
    "else:\n",
    "    print('no match')"
   ]
  },
  {
   "cell_type": "markdown",
   "id": "05e7d6e8",
   "metadata": {},
   "source": [
    "Match - try to apply the pattern at the start of the string"
   ]
  },
  {
   "cell_type": "markdown",
   "id": "96f80623",
   "metadata": {},
   "source": [
    "## Input Validation"
   ]
  },
  {
   "cell_type": "code",
   "execution_count": 44,
   "id": "6f36ce6f",
   "metadata": {
    "ExecuteTime": {
     "end_time": "2021-12-16T22:46:02.919825Z",
     "start_time": "2021-12-16T22:46:02.914307Z"
    }
   },
   "outputs": [],
   "source": [
    "def is_integer(text):\n",
    "    pattern = r\"\\d+\"\n",
    "    \n",
    "    match = re.match(pattern, text)\n",
    "    \n",
    "    if match:\n",
    "        return True\n",
    "    else:\n",
    "        return False"
   ]
  },
  {
   "cell_type": "code",
   "execution_count": 45,
   "id": "f544fa9a",
   "metadata": {
    "ExecuteTime": {
     "end_time": "2021-12-16T22:46:02.935665Z",
     "start_time": "2021-12-16T22:46:02.926092Z"
    }
   },
   "outputs": [
    {
     "data": {
      "text/plain": [
       "True"
      ]
     },
     "execution_count": 45,
     "metadata": {},
     "output_type": "execute_result"
    }
   ],
   "source": [
    "is_integer(\"123\")"
   ]
  },
  {
   "cell_type": "code",
   "execution_count": 46,
   "id": "53ae87eb",
   "metadata": {
    "ExecuteTime": {
     "end_time": "2021-12-16T22:46:02.949157Z",
     "start_time": "2021-12-16T22:46:02.941392Z"
    }
   },
   "outputs": [
    {
     "data": {
      "text/plain": [
       "False"
      ]
     },
     "execution_count": 46,
     "metadata": {},
     "output_type": "execute_result"
    }
   ],
   "source": [
    "is_integer(\"abc\")"
   ]
  },
  {
   "cell_type": "code",
   "execution_count": 47,
   "id": "bec8c07c",
   "metadata": {
    "ExecuteTime": {
     "end_time": "2021-12-16T22:46:02.963685Z",
     "start_time": "2021-12-16T22:46:02.955569Z"
    }
   },
   "outputs": [],
   "source": [
    "def test_is_integer():\n",
    "    pass_list = [\"123\",\"456\",\"900\",\"0991\"]\n",
    "    fail_list = [\"a123\",\"124a\",\"1 2 3\",\"1\\t2\",\" 12\",\"45 \"]\n",
    "    \n",
    "    for text in pass_list:\n",
    "        if not is_integer(text):\n",
    "            print('\\tFailed to detect an integer',text)\n",
    "    \n",
    "    for text in fail_list:\n",
    "        if is_integer(text):\n",
    "            print('\\tIncorrectly classified as an integer',text)\n",
    "    \n",
    "    print('Test complete')"
   ]
  },
  {
   "cell_type": "code",
   "execution_count": 48,
   "id": "eae3e02b",
   "metadata": {
    "ExecuteTime": {
     "end_time": "2021-12-16T22:46:02.992213Z",
     "start_time": "2021-12-16T22:46:02.983779Z"
    }
   },
   "outputs": [
    {
     "name": "stdout",
     "output_type": "stream",
     "text": [
      "\tIncorrectly classified as an integer 124a\n",
      "\tIncorrectly classified as an integer 1 2 3\n",
      "\tIncorrectly classified as an integer 1\t2\n",
      "\tIncorrectly classified as an integer 45 \n",
      "Test complete\n"
     ]
    }
   ],
   "source": [
    "test_is_integer()"
   ]
  },
  {
   "cell_type": "code",
   "execution_count": 49,
   "id": "3f195c4a",
   "metadata": {
    "ExecuteTime": {
     "end_time": "2021-12-16T22:46:03.007969Z",
     "start_time": "2021-12-16T22:46:02.996883Z"
    }
   },
   "outputs": [],
   "source": [
    "def is_integer(text):\n",
    "    pattern = r\"\\d+$\" #look for numbers followed by end of string\n",
    "    \n",
    "    match = re.match(pattern, text)\n",
    "    \n",
    "    if match:\n",
    "        return True\n",
    "    else:\n",
    "        return False\n",
    "\n",
    "def test_is_integer():\n",
    "    pass_list = [\"123\",\"456\",\"900\",\"0991\"]\n",
    "    fail_list = [\"a123\",\"124a\",\"1 2 3\",\"1\\t2\",\" 12\",\"45 \"]\n",
    "    \n",
    "    for text in pass_list:\n",
    "        if not is_integer(text):\n",
    "            print('\\tFailed to detect an integer',text)\n",
    "    \n",
    "    for text in fail_list:\n",
    "        if is_integer(text):\n",
    "            print('\\tIncorrectly classified as an integer',text)\n",
    "    \n",
    "    print('Test complete')"
   ]
  },
  {
   "cell_type": "code",
   "execution_count": 50,
   "id": "73e13b74",
   "metadata": {
    "ExecuteTime": {
     "end_time": "2021-12-16T22:46:03.018910Z",
     "start_time": "2021-12-16T22:46:03.014083Z"
    }
   },
   "outputs": [
    {
     "name": "stdout",
     "output_type": "stream",
     "text": [
      "Test complete\n"
     ]
    }
   ],
   "source": [
    "test_is_integer()"
   ]
  },
  {
   "cell_type": "markdown",
   "id": "1dce95a3",
   "metadata": {},
   "source": [
    "## re.search - Find the first match anywhere"
   ]
  },
  {
   "cell_type": "code",
   "execution_count": 51,
   "id": "45d805f6",
   "metadata": {
    "ExecuteTime": {
     "end_time": "2021-12-16T22:48:19.906835Z",
     "start_time": "2021-12-16T22:48:19.901230Z"
    }
   },
   "outputs": [
    {
     "name": "stdout",
     "output_type": "stream",
     "text": [
      "42 at index: 21\n"
     ]
    }
   ],
   "source": [
    "pattern = r\"\\d+\"\n",
    "text = 'my lucky numbers are 42 and 24'\n",
    "\n",
    "match = re.search(pattern,text)\n",
    "\n",
    "if match:\n",
    "    print(match.group(0), 'at index:', match.start())\n",
    "else:\n",
    "    print('no match')"
   ]
  },
  {
   "cell_type": "code",
   "execution_count": 52,
   "id": "462ae69b",
   "metadata": {
    "ExecuteTime": {
     "end_time": "2021-12-16T22:49:17.108210Z",
     "start_time": "2021-12-16T22:49:17.100429Z"
    }
   },
   "outputs": [],
   "source": [
    "def is_integer(text):\n",
    "    pattern = r\"\\d+$\" #look for numbers followed by end of string\n",
    "    \n",
    "    match = re.search(pattern, text)\n",
    "    \n",
    "    if match:\n",
    "        return True\n",
    "    else:\n",
    "        return False"
   ]
  },
  {
   "cell_type": "code",
   "execution_count": 53,
   "id": "9f09e98c",
   "metadata": {
    "ExecuteTime": {
     "end_time": "2021-12-16T22:49:33.362842Z",
     "start_time": "2021-12-16T22:49:33.354459Z"
    }
   },
   "outputs": [
    {
     "data": {
      "text/plain": [
       "True"
      ]
     },
     "execution_count": 53,
     "metadata": {},
     "output_type": "execute_result"
    }
   ],
   "source": [
    "is_integer(text)"
   ]
  },
  {
   "cell_type": "markdown",
   "id": "3cc43fac",
   "metadata": {},
   "source": [
    "## re.findall - Find all the matches"
   ]
  },
  {
   "cell_type": "code",
   "execution_count": 54,
   "id": "6304179d",
   "metadata": {
    "ExecuteTime": {
     "end_time": "2021-12-16T22:51:22.664477Z",
     "start_time": "2021-12-16T22:51:22.660899Z"
    }
   },
   "outputs": [],
   "source": [
    "# Find all numbers in the text\n",
    "pattern = r\"\\d+\"\n",
    "text = \"NY Postal Codes are 10001, 10002, 10003, 10004\"\n",
    "\n"
   ]
  },
  {
   "cell_type": "code",
   "execution_count": 58,
   "id": "f8b4bff4",
   "metadata": {
    "ExecuteTime": {
     "end_time": "2021-12-16T22:51:45.132307Z",
     "start_time": "2021-12-16T22:51:45.126101Z"
    }
   },
   "outputs": [
    {
     "name": "stdout",
     "output_type": "stream",
     "text": [
      "['10001', '10002', '10003', '10004']\n"
     ]
    }
   ],
   "source": [
    "match = re.findall(pattern, text)\n",
    "print(match)"
   ]
  },
  {
   "cell_type": "markdown",
   "id": "dcd0fa60",
   "metadata": {},
   "source": [
    "## re.finditer - Iterator"
   ]
  },
  {
   "cell_type": "code",
   "execution_count": 62,
   "id": "584a259d",
   "metadata": {
    "ExecuteTime": {
     "end_time": "2021-12-16T22:55:12.128527Z",
     "start_time": "2021-12-16T22:55:12.119520Z"
    }
   },
   "outputs": [
    {
     "name": "stdout",
     "output_type": "stream",
     "text": [
      "\t 10001 at index: 20\n",
      "\t 10002 at index: 27\n",
      "\t 10003 at index: 34\n",
      "\t 10004 at index: 41\n"
     ]
    }
   ],
   "source": [
    "pattern = r\"\\d+\"\n",
    "text = \"NY Postal Codes are 10001, 10002, 10003, 10004\"\n",
    "\n",
    "match_iter = re.finditer(pattern, text)\n",
    "\n",
    "for match in match_iter:\n",
    "    print(\"\\t\", match.group(0), 'at index:', match.start())"
   ]
  },
  {
   "cell_type": "code",
   "execution_count": 65,
   "id": "45b21217",
   "metadata": {
    "ExecuteTime": {
     "end_time": "2021-12-16T22:56:44.339909Z",
     "start_time": "2021-12-16T22:56:44.331525Z"
    }
   },
   "outputs": [
    {
     "name": "stdout",
     "output_type": "stream",
     "text": [
      "\t 10001 at index: 20\n",
      "\t 10002 at index: 27\n",
      "\t 10003 at index: 34\n",
      "\t 10004 at index: 41\n"
     ]
    }
   ],
   "source": [
    "pattern = r\"\\d+\"\n",
    "text = \"NY Postal Codes are 10001, 10002, 10003, 10004\"\n",
    "\n",
    "match_iter = re.finditer(pattern, text)\n",
    "\n",
    "for match in match_iter:\n",
    "    print(\"\\t\", match.group(0), 'at index:', match.start())\n",
    "\n",
    "i = 0    \n",
    "for match in match_iter:\n",
    "    print('/t', match.group(0), 'at index:', match.start())\n",
    "    i += 1\n",
    "    \n",
    "    if i > 1:\n",
    "        break"
   ]
  },
  {
   "cell_type": "markdown",
   "id": "67042021",
   "metadata": {},
   "source": [
    "### groups - find sub matches"
   ]
  },
  {
   "cell_type": "code",
   "execution_count": 66,
   "id": "bd5c0d67",
   "metadata": {
    "ExecuteTime": {
     "end_time": "2021-12-16T22:59:45.890701Z",
     "start_time": "2021-12-16T22:59:45.886246Z"
    }
   },
   "outputs": [],
   "source": [
    "pattern = r\"(\\d{4})(\\d{2})(\\d{2})\"\n",
    "text = \"Start Date: 20200920\""
   ]
  },
  {
   "cell_type": "code",
   "execution_count": 69,
   "id": "bd5e8daf",
   "metadata": {
    "ExecuteTime": {
     "end_time": "2021-12-16T23:00:10.589327Z",
     "start_time": "2021-12-16T23:00:10.583396Z"
    }
   },
   "outputs": [
    {
     "data": {
      "text/plain": [
       "<re.Match object; span=(12, 20), match='20200920'>"
      ]
     },
     "execution_count": 69,
     "metadata": {},
     "output_type": "execute_result"
    }
   ],
   "source": [
    "match = re.search(pattern, text)\n",
    "match"
   ]
  },
  {
   "cell_type": "code",
   "execution_count": 70,
   "id": "25c682bb",
   "metadata": {
    "ExecuteTime": {
     "end_time": "2021-12-16T23:00:22.963875Z",
     "start_time": "2021-12-16T23:00:22.958348Z"
    }
   },
   "outputs": [
    {
     "data": {
      "text/plain": [
       "('2020', '09', '20')"
      ]
     },
     "execution_count": 70,
     "metadata": {},
     "output_type": "execute_result"
    }
   ],
   "source": [
    "match.groups()"
   ]
  },
  {
   "cell_type": "code",
   "execution_count": 75,
   "id": "e493184f",
   "metadata": {
    "ExecuteTime": {
     "end_time": "2021-12-16T23:01:27.842577Z",
     "start_time": "2021-12-16T23:01:27.837131Z"
    }
   },
   "outputs": [
    {
     "data": {
      "text/plain": [
       "'2020'"
      ]
     },
     "execution_count": 75,
     "metadata": {},
     "output_type": "execute_result"
    }
   ],
   "source": [
    "match.groups(1)[0]"
   ]
  },
  {
   "cell_type": "code",
   "execution_count": 76,
   "id": "4e18a73a",
   "metadata": {
    "ExecuteTime": {
     "end_time": "2021-12-16T23:01:32.666305Z",
     "start_time": "2021-12-16T23:01:32.660896Z"
    }
   },
   "outputs": [
    {
     "data": {
      "text/plain": [
       "'09'"
      ]
     },
     "execution_count": 76,
     "metadata": {},
     "output_type": "execute_result"
    }
   ],
   "source": [
    "match.groups(2)[1]"
   ]
  },
  {
   "cell_type": "code",
   "execution_count": 77,
   "id": "a178c651",
   "metadata": {
    "ExecuteTime": {
     "end_time": "2021-12-16T23:02:38.425069Z",
     "start_time": "2021-12-16T23:02:38.420003Z"
    }
   },
   "outputs": [
    {
     "name": "stdout",
     "output_type": "stream",
     "text": [
      "0 2020 1 12\n",
      "1 09 2 16\n",
      "2 20 3 18\n"
     ]
    }
   ],
   "source": [
    "for idx, value in enumerate(match.groups()):\n",
    "    print(idx, value, idx+1, match.start(idx+1))"
   ]
  },
  {
   "cell_type": "code",
   "execution_count": 78,
   "id": "32b0fdc8",
   "metadata": {
    "ExecuteTime": {
     "end_time": "2021-12-16T23:03:15.326546Z",
     "start_time": "2021-12-16T23:03:15.317740Z"
    }
   },
   "outputs": [
    {
     "name": "stdout",
     "output_type": "stream",
     "text": [
      "Pattern (\\d{4})(\\d{2})(\\d{2})\n",
      "Found a match 20200920 at index: 12\n",
      "Groups ('2020', '09', '20')\n",
      "\tGroup 1 2020 \tat index 12\n",
      "\tGroup 2 09 \tat index 16\n",
      "\tGroup 3 20 \tat index 18\n"
     ]
    }
   ],
   "source": [
    "pattern = r\"(\\d{4})(\\d{2})(\\d{2})\"\n",
    "text = \"Start Date: 20200920\"\n",
    "\n",
    "print(\"Pattern\",pattern)\n",
    "match = re.search(pattern, text)\n",
    "\n",
    "if match:\n",
    "    print('Found a match', match.group(0), 'at index:', match.start())\n",
    "    \n",
    "    print('Groups', match.groups())\n",
    "        \n",
    "    for idx, value in enumerate(match.groups()):\n",
    "        print ('\\tGroup', idx+1, value, '\\tat index', match.start(idx+1))\n",
    "        \n",
    "else:\n",
    "    print(\"No Match\")"
   ]
  },
  {
   "cell_type": "markdown",
   "id": "9a534305",
   "metadata": {},
   "source": [
    "### named groups\n"
   ]
  },
  {
   "cell_type": "code",
   "execution_count": null,
   "id": "334322be",
   "metadata": {},
   "outputs": [],
   "source": [
    "# Separate year, month and day\n",
    "pattern = r\"(?P<year>\\d{4})(?P<month>\\d{2})(?P<day>\\d{2})\"\n",
    "text = \"Start Date: 20200920\"\n",
    "\n",
    "print(\"Pattern\",pattern)\n",
    "match = re.search(pattern, text)\n",
    "\n",
    "if match:\n",
    "    print('Found a match', match.group(0), 'at index:', match.start())    \n",
    "    print('\\t',match.groupdict())\n",
    "else:\n",
    "    print(\"No Match\")  \n"
   ]
  },
  {
   "cell_type": "code",
   "execution_count": 98,
   "id": "f50c2dc7",
   "metadata": {
    "ExecuteTime": {
     "end_time": "2021-12-16T23:16:42.097166Z",
     "start_time": "2021-12-16T23:16:42.089625Z"
    }
   },
   "outputs": [
    {
     "data": {
      "text/plain": [
       "{'year': '1991', 'month': '08', 'day': '22'}"
      ]
     },
     "execution_count": 98,
     "metadata": {},
     "output_type": "execute_result"
    }
   ],
   "source": [
    "pattern = r\"(?P<year>\\d{4})(?P<month>\\d{2})(?P<day>\\d{2})\"\n",
    "text = \"start date: 19910822\"\n",
    "\n",
    "match = re.search(pattern, text)\n",
    "\n",
    "match.group(0), match.start()\n",
    "\n",
    "match.groupdict()"
   ]
  },
  {
   "cell_type": "code",
   "execution_count": 83,
   "id": "15eaab6c",
   "metadata": {
    "ExecuteTime": {
     "end_time": "2021-12-16T23:07:55.996812Z",
     "start_time": "2021-12-16T23:07:55.990126Z"
    }
   },
   "outputs": [
    {
     "data": {
      "text/plain": [
       "{'year': '1991', 'month': '08', 'day': '22'}"
      ]
     },
     "execution_count": 83,
     "metadata": {},
     "output_type": "execute_result"
    }
   ],
   "source": [
    "match.groupdict()"
   ]
  },
  {
   "cell_type": "markdown",
   "id": "b8d16639",
   "metadata": {},
   "source": [
    "## re.sub - find and replace\n",
    "\n",
    "two patterns: one to find the text and another pattern with replacement text"
   ]
  },
  {
   "cell_type": "code",
   "execution_count": 95,
   "id": "e95e57c5",
   "metadata": {
    "ExecuteTime": {
     "end_time": "2021-12-16T23:15:47.134747Z",
     "start_time": "2021-12-16T23:15:47.129889Z"
    }
   },
   "outputs": [
    {
     "name": "stdout",
     "output_type": "stream",
     "text": [
      "Start Date: 20200920, End Date: 20210920\n",
      "Start Date: 09-20-2020, End Date: 09-20-2021\n"
     ]
    }
   ],
   "source": [
    "pattern = r\"(?P<year>\\d{4})(?P<month>\\d{2})(?P<day>\\d{2})\"\n",
    "text = \"Start Date: 20200920, End Date: 20210920\"\n",
    "\n",
    "replacement_pattern = r\"\\g<month>-\\g<day>-\\g<year>\"\n",
    "\n",
    "print(text)\n",
    "\n",
    "new_text = re.sub(pattern, replacement_pattern, text)\n",
    "\n",
    "print(new_text)"
   ]
  },
  {
   "cell_type": "code",
   "execution_count": 100,
   "id": "427cfcea",
   "metadata": {
    "ExecuteTime": {
     "end_time": "2021-12-16T23:19:15.276763Z",
     "start_time": "2021-12-16T23:19:15.269465Z"
    }
   },
   "outputs": [
    {
     "name": "stdout",
     "output_type": "stream",
     "text": [
      "original text\t Start Date: 20200920, End Date: 20210920\n",
      "\n",
      "new text\t Start Date: Sep-20-2020, End Date: Sep-20-2021\n"
     ]
    }
   ],
   "source": [
    "def format_date(match):   \n",
    "    in_date = match.groupdict()\n",
    "    \n",
    "    year = int(in_date['year'])\n",
    "    month = int(in_date['month'])\n",
    "    day = int(in_date['day'])\n",
    "    \n",
    "    #https://docs.python.org/3/library/datetime.html#strftime-strptime-behavior\n",
    "    return datetime.date(year,month,day).strftime('%b-%d-%Y')\n",
    "\n",
    "# Format date\n",
    "pattern = r\"(?P<year>\\d{4})(?P<month>\\d{2})(?P<day>\\d{2})\"\n",
    "text = \"Start Date: 20200920, End Date: 20210920\"\n",
    "\n",
    "print ('original text\\t', text)\n",
    "print()\n",
    "\n",
    "# find and replace\n",
    "new_text= re.sub(pattern, format_date, text)\n",
    "\n",
    "print('new text\\t', new_text)re.split - split text based on specified pattern\n"
   ]
  },
  {
   "cell_type": "markdown",
   "id": "c1076687",
   "metadata": {},
   "source": [
    "## re.split - split text based on specified pattern\n"
   ]
  },
  {
   "cell_type": "code",
   "execution_count": 101,
   "id": "f33c805c",
   "metadata": {
    "ExecuteTime": {
     "end_time": "2021-12-16T23:27:50.676325Z",
     "start_time": "2021-12-16T23:27:50.670569Z"
    }
   },
   "outputs": [
    {
     "data": {
      "text/plain": [
       "['today', ' is', ' my lucky', ' day']"
      ]
     },
     "execution_count": 101,
     "metadata": {},
     "output_type": "execute_result"
    }
   ],
   "source": [
    "pattern = r','\n",
    "text = 'today, is, my lucky, day'\n",
    "\n",
    "re.split(pattern, text)"
   ]
  },
  {
   "cell_type": "code",
   "execution_count": null,
   "id": "a1f22733",
   "metadata": {},
   "outputs": [],
   "source": []
  }
 ],
 "metadata": {
  "kernelspec": {
   "display_name": "Python 3 (ipykernel)",
   "language": "python",
   "name": "python3"
  },
  "language_info": {
   "codemirror_mode": {
    "name": "ipython",
    "version": 3
   },
   "file_extension": ".py",
   "mimetype": "text/x-python",
   "name": "python",
   "nbconvert_exporter": "python",
   "pygments_lexer": "ipython3",
   "version": "3.9.7"
  },
  "toc": {
   "base_numbering": 1,
   "nav_menu": {},
   "number_sections": true,
   "sideBar": true,
   "skip_h1_title": false,
   "title_cell": "Table of Contents",
   "title_sidebar": "Contents",
   "toc_cell": false,
   "toc_position": {},
   "toc_section_display": true,
   "toc_window_display": false
  }
 },
 "nbformat": 4,
 "nbformat_minor": 5
}
