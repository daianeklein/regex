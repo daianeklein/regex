{
 "cells": [
  {
   "cell_type": "markdown",
   "id": "63b69981",
   "metadata": {},
   "source": [
    "# INTRODUCTION TO REGULAR EXPRESSIONS"
   ]
  },
  {
   "cell_type": "markdown",
   "id": "c084555b",
   "metadata": {},
   "source": [
    "## Libs"
   ]
  },
  {
   "cell_type": "code",
   "execution_count": 1,
   "id": "68fe84fe",
   "metadata": {
    "ExecuteTime": {
     "end_time": "2021-12-14T23:24:27.881114Z",
     "start_time": "2021-12-14T23:24:27.874191Z"
    }
   },
   "outputs": [],
   "source": [
    "import re"
   ]
  },
  {
   "cell_type": "code",
   "execution_count": 2,
   "id": "ee3bbe06",
   "metadata": {
    "ExecuteTime": {
     "end_time": "2021-12-14T23:24:27.894951Z",
     "start_time": "2021-12-14T23:24:27.889428Z"
    }
   },
   "outputs": [],
   "source": [
    "#tab\n",
    "#shift tab\n",
    "#shift + double tab"
   ]
  },
  {
   "cell_type": "markdown",
   "id": "aa0174b7",
   "metadata": {},
   "source": [
    "## Raw String and Regular String"
   ]
  },
  {
   "cell_type": "code",
   "execution_count": 3,
   "id": "75d080f1",
   "metadata": {
    "ExecuteTime": {
     "end_time": "2021-12-14T23:24:27.908451Z",
     "start_time": "2021-12-14T23:24:27.899621Z"
    }
   },
   "outputs": [
    {
     "name": "stdout",
     "output_type": "stream",
     "text": [
      "a\tb\n"
     ]
    }
   ],
   "source": [
    "s = 'a\\tb' # a-tab-b\n",
    "print(s)"
   ]
  },
  {
   "cell_type": "code",
   "execution_count": 4,
   "id": "699c20f8",
   "metadata": {
    "ExecuteTime": {
     "end_time": "2021-12-14T23:24:27.919519Z",
     "start_time": "2021-12-14T23:24:27.911359Z"
    }
   },
   "outputs": [
    {
     "name": "stdout",
     "output_type": "stream",
     "text": [
      "a\\tb\n"
     ]
    }
   ],
   "source": [
    "raw_s = r'a\\tb' #use raw string when defining regex patterns in your code\n",
    "print(raw_s)"
   ]
  },
  {
   "cell_type": "markdown",
   "id": "f8762f8e",
   "metadata": {},
   "source": [
    "## re.match - Find the first match"
   ]
  },
  {
   "cell_type": "code",
   "execution_count": 5,
   "id": "d13bfee0",
   "metadata": {
    "ExecuteTime": {
     "end_time": "2021-12-14T23:24:27.938762Z",
     "start_time": "2021-12-14T23:24:27.930436Z"
    }
   },
   "outputs": [],
   "source": [
    "pattern = r'\\d+'\n",
    "text = '42 is my lucky number'"
   ]
  },
  {
   "cell_type": "code",
   "execution_count": 6,
   "id": "cc8ad014",
   "metadata": {
    "ExecuteTime": {
     "end_time": "2021-12-14T23:24:27.953835Z",
     "start_time": "2021-12-14T23:24:27.944920Z"
    }
   },
   "outputs": [],
   "source": [
    "match = re.match(pattern, text)"
   ]
  },
  {
   "cell_type": "code",
   "execution_count": 7,
   "id": "d493ca8a",
   "metadata": {
    "ExecuteTime": {
     "end_time": "2021-12-14T23:24:27.984579Z",
     "start_time": "2021-12-14T23:24:27.958147Z"
    }
   },
   "outputs": [
    {
     "name": "stdout",
     "output_type": "stream",
     "text": [
      "Match success\n"
     ]
    }
   ],
   "source": [
    "if match:\n",
    "    print('Match success')\n",
    "else:\n",
    "    print('no match')"
   ]
  },
  {
   "cell_type": "code",
   "execution_count": 14,
   "id": "1b8cc37c",
   "metadata": {
    "ExecuteTime": {
     "end_time": "2021-12-14T23:31:06.732467Z",
     "start_time": "2021-12-14T23:31:06.718044Z"
    }
   },
   "outputs": [
    {
     "data": {
      "text/plain": [
       "'42 is my lucky number'"
      ]
     },
     "execution_count": 14,
     "metadata": {},
     "output_type": "execute_result"
    }
   ],
   "source": [
    "text"
   ]
  },
  {
   "cell_type": "code",
   "execution_count": 17,
   "id": "d5969d54",
   "metadata": {
    "ExecuteTime": {
     "end_time": "2021-12-14T23:31:40.453182Z",
     "start_time": "2021-12-14T23:31:40.447041Z"
    }
   },
   "outputs": [
    {
     "data": {
      "text/plain": [
       "'\\\\d+'"
      ]
     },
     "execution_count": 17,
     "metadata": {},
     "output_type": "execute_result"
    }
   ],
   "source": [
    "pattern"
   ]
  },
  {
   "cell_type": "code",
   "execution_count": 16,
   "id": "be22a979",
   "metadata": {
    "ExecuteTime": {
     "end_time": "2021-12-14T23:31:33.727210Z",
     "start_time": "2021-12-14T23:31:33.719445Z"
    }
   },
   "outputs": [
    {
     "data": {
      "text/plain": [
       "<re.Match object; span=(0, 2), match='42'>"
      ]
     },
     "execution_count": 16,
     "metadata": {},
     "output_type": "execute_result"
    }
   ],
   "source": [
    "re.match(pattern, text)"
   ]
  },
  {
   "cell_type": "code",
   "execution_count": 19,
   "id": "01734728",
   "metadata": {
    "ExecuteTime": {
     "end_time": "2021-12-14T23:32:21.549743Z",
     "start_time": "2021-12-14T23:32:21.543411Z"
    }
   },
   "outputs": [
    {
     "name": "stdout",
     "output_type": "stream",
     "text": [
      "no match\n"
     ]
    }
   ],
   "source": [
    "pattern = r'\\d+'\n",
    "text = 'is my lucky number'\n",
    "match = re.match(pattern, text)\n",
    "\n",
    "if match:\n",
    "    print('Match success')\n",
    "else:\n",
    "    print('no match')"
   ]
  },
  {
   "cell_type": "code",
   "execution_count": null,
   "id": "3e7b3fa8",
   "metadata": {},
   "outputs": [],
   "source": []
  },
  {
   "cell_type": "markdown",
   "id": "09c70d9b",
   "metadata": {},
   "source": [
    "***"
   ]
  },
  {
   "cell_type": "code",
   "execution_count": 8,
   "id": "7a94558e",
   "metadata": {
    "ExecuteTime": {
     "end_time": "2021-12-14T23:24:28.003874Z",
     "start_time": "2021-12-14T23:24:27.990911Z"
    }
   },
   "outputs": [],
   "source": [
    "pattern = r'\\d+'\n",
    "text = 'is my lucky number'"
   ]
  },
  {
   "cell_type": "code",
   "execution_count": 9,
   "id": "f987c654",
   "metadata": {
    "ExecuteTime": {
     "end_time": "2021-12-14T23:24:28.013421Z",
     "start_time": "2021-12-14T23:24:28.008641Z"
    }
   },
   "outputs": [],
   "source": [
    "match = re.match(pattern, text)"
   ]
  },
  {
   "cell_type": "code",
   "execution_count": 10,
   "id": "fd7e9249",
   "metadata": {
    "ExecuteTime": {
     "end_time": "2021-12-14T23:24:28.025651Z",
     "start_time": "2021-12-14T23:24:28.020438Z"
    }
   },
   "outputs": [
    {
     "name": "stdout",
     "output_type": "stream",
     "text": [
      "no match\n"
     ]
    }
   ],
   "source": [
    "if match:\n",
    "    print('Match success')\n",
    "else:\n",
    "    print('no match')"
   ]
  },
  {
   "cell_type": "markdown",
   "id": "ab45f213",
   "metadata": {},
   "source": [
    "***"
   ]
  },
  {
   "cell_type": "code",
   "execution_count": 20,
   "id": "8ddc5dc4",
   "metadata": {
    "ExecuteTime": {
     "end_time": "2021-12-14T23:33:01.821221Z",
     "start_time": "2021-12-14T23:33:01.816408Z"
    }
   },
   "outputs": [],
   "source": [
    "pattern = r'\\d+'\n",
    "text = '42 is my lucky number'"
   ]
  },
  {
   "cell_type": "code",
   "execution_count": 21,
   "id": "c0cafff8",
   "metadata": {
    "ExecuteTime": {
     "end_time": "2021-12-14T23:33:02.224352Z",
     "start_time": "2021-12-14T23:33:02.219507Z"
    }
   },
   "outputs": [],
   "source": [
    "match = re.match(pattern, text)"
   ]
  },
  {
   "cell_type": "code",
   "execution_count": 22,
   "id": "be80115a",
   "metadata": {
    "ExecuteTime": {
     "end_time": "2021-12-14T23:33:02.669460Z",
     "start_time": "2021-12-14T23:33:02.659361Z"
    }
   },
   "outputs": [
    {
     "name": "stdout",
     "output_type": "stream",
     "text": [
      "42 at index: 0\n"
     ]
    }
   ],
   "source": [
    "if match:\n",
    "    print(match.group(0), 'at index:', match.start())\n",
    "else:\n",
    "    print('no match')"
   ]
  },
  {
   "cell_type": "code",
   "execution_count": 23,
   "id": "040c3468",
   "metadata": {
    "ExecuteTime": {
     "end_time": "2021-12-14T23:33:09.445844Z",
     "start_time": "2021-12-14T23:33:09.439840Z"
    }
   },
   "outputs": [
    {
     "name": "stdout",
     "output_type": "stream",
     "text": [
      "42\n"
     ]
    }
   ],
   "source": [
    "if match:\n",
    "    print(match.group(0))\n",
    "else:\n",
    "    print('no match')"
   ]
  },
  {
   "cell_type": "markdown",
   "id": "05e7d6e8",
   "metadata": {},
   "source": [
    "Match - try to apply the pattern at the start of the string"
   ]
  },
  {
   "cell_type": "markdown",
   "id": "96f80623",
   "metadata": {},
   "source": [
    "## Input Validation"
   ]
  },
  {
   "cell_type": "code",
   "execution_count": 24,
   "id": "6f36ce6f",
   "metadata": {
    "ExecuteTime": {
     "end_time": "2021-12-14T23:35:50.364830Z",
     "start_time": "2021-12-14T23:35:50.359096Z"
    }
   },
   "outputs": [],
   "source": [
    "def is_integer(text):\n",
    "    pattern = r\"\\d+\"\n",
    "    \n",
    "    match = re.match(pattern, text)\n",
    "    \n",
    "    if match:\n",
    "        return True\n",
    "    else:\n",
    "        return False"
   ]
  },
  {
   "cell_type": "code",
   "execution_count": 25,
   "id": "f544fa9a",
   "metadata": {
    "ExecuteTime": {
     "end_time": "2021-12-14T23:35:59.959958Z",
     "start_time": "2021-12-14T23:35:59.952029Z"
    }
   },
   "outputs": [
    {
     "data": {
      "text/plain": [
       "True"
      ]
     },
     "execution_count": 25,
     "metadata": {},
     "output_type": "execute_result"
    }
   ],
   "source": [
    "is_integer(\"123\")"
   ]
  },
  {
   "cell_type": "code",
   "execution_count": 26,
   "id": "53ae87eb",
   "metadata": {
    "ExecuteTime": {
     "end_time": "2021-12-14T23:36:05.818402Z",
     "start_time": "2021-12-14T23:36:05.811488Z"
    }
   },
   "outputs": [
    {
     "data": {
      "text/plain": [
       "False"
      ]
     },
     "execution_count": 26,
     "metadata": {},
     "output_type": "execute_result"
    }
   ],
   "source": [
    "is_integer(\"abc\")"
   ]
  },
  {
   "cell_type": "code",
   "execution_count": 27,
   "id": "bec8c07c",
   "metadata": {
    "ExecuteTime": {
     "end_time": "2021-12-14T23:37:23.467869Z",
     "start_time": "2021-12-14T23:37:23.461193Z"
    }
   },
   "outputs": [],
   "source": [
    "def test_is_integer():\n",
    "    pass_list = [\"123\",\"456\",\"900\",\"0991\"]\n",
    "    fail_list = [\"a123\",\"124a\",\"1 2 3\",\"1\\t2\",\" 12\",\"45 \"]\n",
    "    \n",
    "    for text in pass_list:\n",
    "        if not is_integer(text):\n",
    "            print('\\tFailed to detect an integer',text)\n",
    "    \n",
    "    for text in fail_list:\n",
    "        if is_integer(text):\n",
    "            print('\\tIncorrectly classified as an integer',text)\n",
    "    \n",
    "    print('Test complete')"
   ]
  },
  {
   "cell_type": "code",
   "execution_count": 28,
   "id": "eae3e02b",
   "metadata": {
    "ExecuteTime": {
     "end_time": "2021-12-14T23:37:52.621181Z",
     "start_time": "2021-12-14T23:37:52.615222Z"
    }
   },
   "outputs": [
    {
     "name": "stdout",
     "output_type": "stream",
     "text": [
      "\tIncorrectly classified as an integer 124a\n",
      "\tIncorrectly classified as an integer 1 2 3\n",
      "\tIncorrectly classified as an integer 1\t2\n",
      "\tIncorrectly classified as an integer 45 \n",
      "Test complete\n"
     ]
    }
   ],
   "source": [
    "test_is_integer()"
   ]
  },
  {
   "cell_type": "code",
   "execution_count": 29,
   "id": "3f195c4a",
   "metadata": {
    "ExecuteTime": {
     "end_time": "2021-12-14T23:40:21.942786Z",
     "start_time": "2021-12-14T23:40:21.932380Z"
    }
   },
   "outputs": [],
   "source": [
    "def is_integer(text):\n",
    "    pattern = r\"\\d+$\" #look for numbers followed by end of string\n",
    "    \n",
    "    match = re.match(pattern, text)\n",
    "    \n",
    "    if match:\n",
    "        return True\n",
    "    else:\n",
    "        return False\n",
    "\n",
    "def test_is_integer():\n",
    "    pass_list = [\"123\",\"456\",\"900\",\"0991\"]\n",
    "    fail_list = [\"a123\",\"124a\",\"1 2 3\",\"1\\t2\",\" 12\",\"45 \"]\n",
    "    \n",
    "    for text in pass_list:\n",
    "        if not is_integer(text):\n",
    "            print('\\tFailed to detect an integer',text)\n",
    "    \n",
    "    for text in fail_list:\n",
    "        if is_integer(text):\n",
    "            print('\\tIncorrectly classified as an integer',text)\n",
    "    \n",
    "    print('Test complete')"
   ]
  },
  {
   "cell_type": "code",
   "execution_count": 30,
   "id": "73e13b74",
   "metadata": {
    "ExecuteTime": {
     "end_time": "2021-12-14T23:40:34.706734Z",
     "start_time": "2021-12-14T23:40:34.697214Z"
    }
   },
   "outputs": [
    {
     "name": "stdout",
     "output_type": "stream",
     "text": [
      "Test complete\n"
     ]
    }
   ],
   "source": [
    "test_is_integer()"
   ]
  },
  {
   "cell_type": "code",
   "execution_count": null,
   "id": "c90c89e4",
   "metadata": {},
   "outputs": [],
   "source": []
  }
 ],
 "metadata": {
  "kernelspec": {
   "display_name": "Python 3 (ipykernel)",
   "language": "python",
   "name": "python3"
  },
  "language_info": {
   "codemirror_mode": {
    "name": "ipython",
    "version": 3
   },
   "file_extension": ".py",
   "mimetype": "text/x-python",
   "name": "python",
   "nbconvert_exporter": "python",
   "pygments_lexer": "ipython3",
   "version": "3.9.7"
  },
  "toc": {
   "base_numbering": 1,
   "nav_menu": {},
   "number_sections": true,
   "sideBar": true,
   "skip_h1_title": false,
   "title_cell": "Table of Contents",
   "title_sidebar": "Contents",
   "toc_cell": false,
   "toc_position": {},
   "toc_section_display": true,
   "toc_window_display": false
  }
 },
 "nbformat": 4,
 "nbformat_minor": 5
}
