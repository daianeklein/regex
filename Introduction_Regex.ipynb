{
 "cells": [
  {
   "cell_type": "markdown",
   "id": "63b69981",
   "metadata": {},
   "source": [
    "# INTRODUCTION TO REGULAR EXPRESSIONS"
   ]
  },
  {
   "cell_type": "markdown",
   "id": "c084555b",
   "metadata": {},
   "source": [
    "## Libs"
   ]
  },
  {
   "cell_type": "code",
   "execution_count": 1,
   "id": "68fe84fe",
   "metadata": {
    "ExecuteTime": {
     "end_time": "2021-12-01T22:08:37.614944Z",
     "start_time": "2021-12-01T22:08:37.611111Z"
    }
   },
   "outputs": [],
   "source": [
    "import re"
   ]
  },
  {
   "cell_type": "code",
   "execution_count": 2,
   "id": "ee3bbe06",
   "metadata": {
    "ExecuteTime": {
     "end_time": "2021-12-01T22:11:14.832672Z",
     "start_time": "2021-12-01T22:11:14.829336Z"
    }
   },
   "outputs": [],
   "source": [
    "#tab\n",
    "#shift tab\n",
    "#shift + double tab"
   ]
  },
  {
   "cell_type": "markdown",
   "id": "aa0174b7",
   "metadata": {},
   "source": [
    "## Raw String and Regular String"
   ]
  },
  {
   "cell_type": "code",
   "execution_count": 4,
   "id": "75d080f1",
   "metadata": {
    "ExecuteTime": {
     "end_time": "2021-12-01T22:11:57.674554Z",
     "start_time": "2021-12-01T22:11:57.669025Z"
    }
   },
   "outputs": [
    {
     "name": "stdout",
     "output_type": "stream",
     "text": [
      "a\tb\n"
     ]
    }
   ],
   "source": [
    "s = 'a\\tb' # a-tab-b\n",
    "print(s)"
   ]
  },
  {
   "cell_type": "code",
   "execution_count": 5,
   "id": "699c20f8",
   "metadata": {
    "ExecuteTime": {
     "end_time": "2021-12-01T22:12:57.959121Z",
     "start_time": "2021-12-01T22:12:57.954617Z"
    }
   },
   "outputs": [
    {
     "name": "stdout",
     "output_type": "stream",
     "text": [
      "a\\tb\n"
     ]
    }
   ],
   "source": [
    "raw_s = r'a\\tb' #use raw string when defining regex patterns in your code\n",
    "print(raw_s)"
   ]
  },
  {
   "cell_type": "markdown",
   "id": "f8762f8e",
   "metadata": {},
   "source": [
    "## re.match - Find the first match"
   ]
  },
  {
   "cell_type": "code",
   "execution_count": 6,
   "id": "d13bfee0",
   "metadata": {
    "ExecuteTime": {
     "end_time": "2021-12-01T22:15:56.690461Z",
     "start_time": "2021-12-01T22:15:56.686249Z"
    }
   },
   "outputs": [],
   "source": [
    "pattern = r'\\d+'\n",
    "text = '42 is my lucky number'"
   ]
  },
  {
   "cell_type": "code",
   "execution_count": 9,
   "id": "cc8ad014",
   "metadata": {
    "ExecuteTime": {
     "end_time": "2021-12-01T22:17:26.311261Z",
     "start_time": "2021-12-01T22:17:26.307314Z"
    }
   },
   "outputs": [],
   "source": [
    "match = re.match(pattern, text)"
   ]
  },
  {
   "cell_type": "code",
   "execution_count": 10,
   "id": "d493ca8a",
   "metadata": {
    "ExecuteTime": {
     "end_time": "2021-12-01T22:18:04.388025Z",
     "start_time": "2021-12-01T22:18:04.382554Z"
    }
   },
   "outputs": [
    {
     "name": "stdout",
     "output_type": "stream",
     "text": [
      "Match success\n"
     ]
    }
   ],
   "source": [
    "if match:\n",
    "    print('Match success')\n",
    "else:\n",
    "    print('no match')"
   ]
  },
  {
   "cell_type": "markdown",
   "id": "09c70d9b",
   "metadata": {},
   "source": [
    "***"
   ]
  },
  {
   "cell_type": "code",
   "execution_count": 11,
   "id": "7a94558e",
   "metadata": {
    "ExecuteTime": {
     "end_time": "2021-12-01T22:18:36.391026Z",
     "start_time": "2021-12-01T22:18:36.386573Z"
    }
   },
   "outputs": [],
   "source": [
    "pattern = r'\\d+'\n",
    "text = 'is my lucky number'"
   ]
  },
  {
   "cell_type": "code",
   "execution_count": 12,
   "id": "f987c654",
   "metadata": {
    "ExecuteTime": {
     "end_time": "2021-12-01T22:18:36.839122Z",
     "start_time": "2021-12-01T22:18:36.834175Z"
    }
   },
   "outputs": [],
   "source": [
    "match = re.match(pattern, text)"
   ]
  },
  {
   "cell_type": "code",
   "execution_count": 13,
   "id": "fd7e9249",
   "metadata": {
    "ExecuteTime": {
     "end_time": "2021-12-01T22:18:37.157186Z",
     "start_time": "2021-12-01T22:18:37.151484Z"
    }
   },
   "outputs": [
    {
     "name": "stdout",
     "output_type": "stream",
     "text": [
      "no match\n"
     ]
    }
   ],
   "source": [
    "if match:\n",
    "    print('Match success')\n",
    "else:\n",
    "    print('no match')"
   ]
  },
  {
   "cell_type": "markdown",
   "id": "ab45f213",
   "metadata": {},
   "source": [
    "***"
   ]
  },
  {
   "cell_type": "code",
   "execution_count": 14,
   "id": "8ddc5dc4",
   "metadata": {
    "ExecuteTime": {
     "end_time": "2021-12-01T22:19:40.284992Z",
     "start_time": "2021-12-01T22:19:40.281250Z"
    }
   },
   "outputs": [],
   "source": [
    "pattern = r'\\d+'\n",
    "text = '42 is my lucky number'"
   ]
  },
  {
   "cell_type": "code",
   "execution_count": 15,
   "id": "c0cafff8",
   "metadata": {
    "ExecuteTime": {
     "end_time": "2021-12-01T22:19:41.579228Z",
     "start_time": "2021-12-01T22:19:41.575411Z"
    }
   },
   "outputs": [],
   "source": [
    "match = re.match(pattern, text)"
   ]
  },
  {
   "cell_type": "code",
   "execution_count": 17,
   "id": "be80115a",
   "metadata": {
    "ExecuteTime": {
     "end_time": "2021-12-01T22:23:25.695209Z",
     "start_time": "2021-12-01T22:23:25.690104Z"
    }
   },
   "outputs": [
    {
     "name": "stdout",
     "output_type": "stream",
     "text": [
      "42 at index: 0\n"
     ]
    }
   ],
   "source": [
    "if match:\n",
    "    print(match.group(0), 'at index:', match.start())\n",
    "else:\n",
    "    print('no match')"
   ]
  },
  {
   "cell_type": "code",
   "execution_count": null,
   "id": "040c3468",
   "metadata": {},
   "outputs": [],
   "source": []
  }
 ],
 "metadata": {
  "kernelspec": {
   "display_name": "Python 3 (ipykernel)",
   "language": "python",
   "name": "python3"
  },
  "language_info": {
   "codemirror_mode": {
    "name": "ipython",
    "version": 3
   },
   "file_extension": ".py",
   "mimetype": "text/x-python",
   "name": "python",
   "nbconvert_exporter": "python",
   "pygments_lexer": "ipython3",
   "version": "3.9.7"
  },
  "toc": {
   "base_numbering": 1,
   "nav_menu": {},
   "number_sections": true,
   "sideBar": true,
   "skip_h1_title": false,
   "title_cell": "Table of Contents",
   "title_sidebar": "Contents",
   "toc_cell": false,
   "toc_position": {},
   "toc_section_display": true,
   "toc_window_display": false
  }
 },
 "nbformat": 4,
 "nbformat_minor": 5
}
