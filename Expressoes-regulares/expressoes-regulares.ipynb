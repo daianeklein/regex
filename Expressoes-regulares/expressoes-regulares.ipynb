{
 "cells": [
  {
   "cell_type": "markdown",
   "id": "4274000b",
   "metadata": {},
   "source": [
    "# EXPRESSOES REGULARES EM PYTHON"
   ]
  },
  {
   "cell_type": "code",
   "execution_count": 1,
   "id": "112d41af",
   "metadata": {
    "ExecuteTime": {
     "end_time": "2022-06-26T21:14:11.507845Z",
     "start_time": "2022-06-26T21:14:11.503380Z"
    }
   },
   "outputs": [],
   "source": [
    "import re"
   ]
  },
  {
   "cell_type": "markdown",
   "id": "6b762f93",
   "metadata": {},
   "source": [
    "## Aula 01"
   ]
  },
  {
   "cell_type": "code",
   "execution_count": 2,
   "id": "1c125681",
   "metadata": {
    "ExecuteTime": {
     "end_time": "2022-06-26T21:15:09.127906Z",
     "start_time": "2022-06-26T21:15:09.123973Z"
    }
   },
   "outputs": [],
   "source": [
    "string = 'Este é um teste de expressao teste regulares'"
   ]
  },
  {
   "cell_type": "code",
   "execution_count": 5,
   "id": "8c29672f",
   "metadata": {
    "ExecuteTime": {
     "end_time": "2022-06-26T21:15:52.946838Z",
     "start_time": "2022-06-26T21:15:52.940332Z"
    }
   },
   "outputs": [
    {
     "data": {
      "text/plain": [
       "<re.Match object; span=(10, 15), match='teste'>"
      ]
     },
     "execution_count": 5,
     "metadata": {},
     "output_type": "execute_result"
    }
   ],
   "source": [
    "re.search(r'teste', string)"
   ]
  },
  {
   "cell_type": "code",
   "execution_count": 6,
   "id": "da019e8f",
   "metadata": {
    "ExecuteTime": {
     "end_time": "2022-06-26T21:16:30.472656Z",
     "start_time": "2022-06-26T21:16:30.466581Z"
    }
   },
   "outputs": [
    {
     "data": {
      "text/plain": [
       "['teste', 'teste']"
      ]
     },
     "execution_count": 6,
     "metadata": {},
     "output_type": "execute_result"
    }
   ],
   "source": [
    "re.findall(r'teste', string)"
   ]
  },
  {
   "cell_type": "code",
   "execution_count": 8,
   "id": "17d9f517",
   "metadata": {
    "ExecuteTime": {
     "end_time": "2022-06-26T21:16:57.648141Z",
     "start_time": "2022-06-26T21:16:57.642549Z"
    }
   },
   "outputs": [
    {
     "data": {
      "text/plain": [
       "'Este é um  de expressao  regulares'"
      ]
     },
     "execution_count": 8,
     "metadata": {},
     "output_type": "execute_result"
    }
   ],
   "source": [
    "re.sub(r'teste', '',string) #replace"
   ]
  },
  {
   "cell_type": "markdown",
   "id": "d21d6f68",
   "metadata": {},
   "source": [
    "### COMPILE "
   ]
  },
  {
   "cell_type": "code",
   "execution_count": 9,
   "id": "5e73eb12",
   "metadata": {
    "ExecuteTime": {
     "end_time": "2022-06-26T21:18:07.783358Z",
     "start_time": "2022-06-26T21:18:07.776836Z"
    }
   },
   "outputs": [
    {
     "data": {
      "text/plain": [
       "re.compile(r'teste', re.UNICODE)"
      ]
     },
     "execution_count": 9,
     "metadata": {},
     "output_type": "execute_result"
    }
   ],
   "source": [
    "regexp = re.compile(r'teste')\n",
    "regexp"
   ]
  },
  {
   "cell_type": "code",
   "execution_count": 11,
   "id": "3afbfd77",
   "metadata": {
    "ExecuteTime": {
     "end_time": "2022-06-26T21:18:58.665104Z",
     "start_time": "2022-06-26T21:18:58.649163Z"
    }
   },
   "outputs": [
    {
     "data": {
      "text/plain": [
       "<re.Match object; span=(10, 15), match='teste'>"
      ]
     },
     "execution_count": 11,
     "metadata": {},
     "output_type": "execute_result"
    }
   ],
   "source": [
    "regexp.search(string)"
   ]
  },
  {
   "cell_type": "code",
   "execution_count": 12,
   "id": "ab17ba7a",
   "metadata": {
    "ExecuteTime": {
     "end_time": "2022-06-26T21:19:09.548973Z",
     "start_time": "2022-06-26T21:19:09.542852Z"
    }
   },
   "outputs": [
    {
     "data": {
      "text/plain": [
       "['teste', 'teste']"
      ]
     },
     "execution_count": 12,
     "metadata": {},
     "output_type": "execute_result"
    }
   ],
   "source": [
    "regexp.findall(string)"
   ]
  },
  {
   "cell_type": "code",
   "execution_count": 15,
   "id": "2c4d4179",
   "metadata": {
    "ExecuteTime": {
     "end_time": "2022-06-26T21:20:06.508930Z",
     "start_time": "2022-06-26T21:20:06.502326Z"
    }
   },
   "outputs": [
    {
     "data": {
      "text/plain": [
       "'Este é um ABC  de expressao ABC  regulares'"
      ]
     },
     "execution_count": 15,
     "metadata": {},
     "output_type": "execute_result"
    }
   ],
   "source": [
    "regexp.sub('ABC ',string)"
   ]
  },
  {
   "cell_type": "code",
   "execution_count": null,
   "id": "d597b30e",
   "metadata": {},
   "outputs": [],
   "source": []
  }
 ],
 "metadata": {
  "kernelspec": {
   "display_name": "ds-projects",
   "language": "python",
   "name": "ds-projects"
  },
  "language_info": {
   "codemirror_mode": {
    "name": "ipython",
    "version": 3
   },
   "file_extension": ".py",
   "mimetype": "text/x-python",
   "name": "python",
   "nbconvert_exporter": "python",
   "pygments_lexer": "ipython3",
   "version": "3.9.7"
  },
  "toc": {
   "base_numbering": 1,
   "nav_menu": {},
   "number_sections": true,
   "sideBar": true,
   "skip_h1_title": false,
   "title_cell": "Table of Contents",
   "title_sidebar": "Contents",
   "toc_cell": false,
   "toc_position": {},
   "toc_section_display": true,
   "toc_window_display": false
  }
 },
 "nbformat": 4,
 "nbformat_minor": 5
}
